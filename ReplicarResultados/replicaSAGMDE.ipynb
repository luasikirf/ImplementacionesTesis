{
  "nbformat": 4,
  "nbformat_minor": 0,
  "metadata": {
    "colab": {
      "provenance": []
    },
    "kernelspec": {
      "name": "python3",
      "display_name": "Python 3"
    },
    "language_info": {
      "name": "python"
    }
  },
  "cells": [
    {
      "cell_type": "markdown",
      "source": [
        "# librerias y funciones adicionales"
      ],
      "metadata": {
        "id": "4bcnejb4_931"
      }
    },
    {
      "cell_type": "code",
      "source": [
        "!pip install kora -q\n",
        "from kora import drive\n",
        "drive.link_nbs()"
      ],
      "metadata": {
        "colab": {
          "base_uri": "https://localhost:8080/"
        },
        "id": "NX7Y66N3Wr_H",
        "outputId": "e36a4ef4-faa0-4162-8d87-5f4aabf86c85"
      },
      "execution_count": 1,
      "outputs": [
        {
          "output_type": "stream",
          "name": "stdout",
          "text": [
            "\u001b[2K     \u001b[90m━━━━━━━━━━━━━━━━━━━━━━━━━━━━━━━━━━━━━━━━\u001b[0m \u001b[32m57.7/57.7 kB\u001b[0m \u001b[31m2.1 MB/s\u001b[0m eta \u001b[36m0:00:00\u001b[0m\n",
            "\u001b[2K     \u001b[90m━━━━━━━━━━━━━━━━━━━━━━━━━━━━━━━━━━━━━━━━\u001b[0m \u001b[32m1.6/1.6 MB\u001b[0m \u001b[31m11.8 MB/s\u001b[0m eta \u001b[36m0:00:00\u001b[0m\n",
            "\u001b[?25hMounted at /content/drive\n"
          ]
        }
      ]
    },
    {
      "cell_type": "code",
      "source": [
        "from SAGMDErecocido import *\n",
        "import pickle\n",
        "from sklearn.metrics import davies_bouldin_score as DB\n",
        "from sklearn.metrics import adjusted_rand_score as ari\n",
        "from sklearn.metrics import completeness_score as completitud"
      ],
      "metadata": {
        "id": "2Hco5x9kWwoX"
      },
      "execution_count": 17,
      "outputs": []
    },
    {
      "cell_type": "code",
      "execution_count": 3,
      "metadata": {
        "id": "yQ9oYpH4hgSU"
      },
      "outputs": [],
      "source": [
        "def normalizar(datos):\n",
        "  dimension = len(datos[0])\n",
        "  for i in range(dimension):\n",
        "    minimo = min(datos[:,i])\n",
        "    diferencia = max(datos[:,i]) - minimo\n",
        "    datos[:,i] = (datos[:,i]-minimo) / diferencia\n",
        "  return(datos)"
      ]
    },
    {
      "cell_type": "code",
      "source": [
        "def analisis_estadistico(iteraciones,etiquetasR,parametros,bandera):\n",
        "  datos,n_g,T,T_f,T_dist,T_dist_f,alpha,alpha_dist,MaxIter,f_objetivo = parametros\n",
        "  mejoresF_obj = []; aris = []; completitudes = [];\n",
        "  for i in range(iteraciones):\n",
        "    resultado = recocido(datos,n_g,T,T_f,T_dist,\n",
        "                         T_dist_f,alpha,alpha_dist,MaxIter,f_objetivo)\n",
        "    if bandera == 'sse':\n",
        "      mejoresF_obj.append(resultado.costo)\n",
        "    else:\n",
        "      mejoresF_obj.append(SSE(datos,resultado))\n",
        "    aris.append(ari(etiquetasR,resultado.particion))\n",
        "    completitudes.append(completitud(etiquetasR,resultado.particion))\n",
        "  print(f'Resultados obtenidos tras {iteraciones} iteraciones')\n",
        "  nombres = ['SSE','ARI','Completitud']\n",
        "  for nombre,medida in zip(nombres,(mejoresF_obj,aris,completitudes)):\n",
        "    if nombre != 'Funcion objetivo':\n",
        "      mejor = max(medida); peor = min(medida)\n",
        "    else:\n",
        "      mejor = min(medida); peor = max(medida)\n",
        "    print(f'{nombre} mejor {mejor:.5f} peor {peor:.5f} media {np.mean(medida):.5f} mediana {np.median(medida):.5f} desviacion {np.std(medida):.5f}')"
      ],
      "metadata": {
        "id": "GdcZV0FGLMxg"
      },
      "execution_count": 4,
      "outputs": []
    },
    {
      "cell_type": "code",
      "source": [
        "def costoDB(datos,sol):\n",
        "  return(DB(datos,sol.particion))"
      ],
      "metadata": {
        "id": "qEbMVEVRnUzi"
      },
      "execution_count": 19,
      "outputs": []
    },
    {
      "cell_type": "code",
      "source": [
        "def SSE(datos,sol):\n",
        "  '''como usamos SSE debemos calcular la distancia al cuadrado\n",
        "  entre cada punto y su centroide, y sumar el valor de cada grupo'''\n",
        "  sse = 0\n",
        "  for i,centro in enumerate(sol.centros):\n",
        "    elementos = datos[np.where(sol.particion == i)]\n",
        "    sse+= np.sum(euclidean_distances(elementos,[centro],squared=True))\n",
        "  return(sse)"
      ],
      "metadata": {
        "id": "v71CEXR21ODt"
      },
      "execution_count": 22,
      "outputs": []
    },
    {
      "cell_type": "code",
      "source": [
        "def recuperar(archivo):\n",
        "  with open(archivo, \"rb\") as f:\n",
        "      recuperado = pickle.load(f)\n",
        "  return(recuperado)"
      ],
      "metadata": {
        "id": "GgOIXmtmkVRz"
      },
      "execution_count": 5,
      "outputs": []
    },
    {
      "cell_type": "markdown",
      "source": [
        "# Replica resultados"
      ],
      "metadata": {
        "id": "IfgETIKDXMG8"
      }
    },
    {
      "cell_type": "markdown",
      "source": [
        "## Agrega la ruta a los archivos \"replica\""
      ],
      "metadata": {
        "id": "uPynB3GEAVFt"
      }
    },
    {
      "cell_type": "code",
      "source": [
        "path = '/content' #aqui pon la ruta a la carpeta con los archivos replica"
      ],
      "metadata": {
        "id": "8XU7tKt6Ad30"
      },
      "execution_count": 6,
      "outputs": []
    },
    {
      "cell_type": "markdown",
      "source": [
        "## En el conjunto iris"
      ],
      "metadata": {
        "id": "grQugtQKADcu"
      }
    },
    {
      "cell_type": "code",
      "source": [
        "iris_datos,iris_min,iris_max,iris_labels = recuperar(path+'/replicaIris.pickle')"
      ],
      "metadata": {
        "id": "fXMFCbSkAGge"
      },
      "execution_count": 9,
      "outputs": []
    },
    {
      "cell_type": "code",
      "source": [
        "iris_minmax = normalizar(iris_datos)"
      ],
      "metadata": {
        "id": "KIkgUoULkwlh"
      },
      "execution_count": 10,
      "outputs": []
    },
    {
      "cell_type": "code",
      "source": [
        "#parametros para replicar los resultados con SSE como funcion costo\n",
        "para = {'datos':iris_minmax,\n",
        "        'n_g':3,'T':0.15,'T_f':0.001,'T_dist':6,'T_dist_f':0.25,\n",
        "        'alpha':.95,'alpha_dist':.985,\n",
        "        'MaxIter':2*len(iris_datos),'f_obj':costo}"
      ],
      "metadata": {
        "id": "QYxmAl_2UNwd"
      },
      "execution_count": 15,
      "outputs": []
    },
    {
      "cell_type": "code",
      "source": [
        "analisis_estadistico(iteraciones=31,etiquetasR=iris_labels,\n",
        "                    parametros=para.values(),bandera='sse')"
      ],
      "metadata": {
        "id": "XZPrqj-3mjxH"
      },
      "execution_count": null,
      "outputs": []
    },
    {
      "cell_type": "code",
      "source": [
        "#parametros para replicar los resultados con DB como funcion costo\n",
        "para = {'datos':iris_minmax,\n",
        "        'n_g':3,'T':0.15,'T_f':0.001,'T_dist':6,'T_dist_f':0.25,\n",
        "        'alpha':.95,'alpha_dist':.985,\n",
        "        'MaxIter':2*len(iris_datos),'f_obj':costoDB}"
      ],
      "metadata": {
        "id": "AFqZslEym-Fc"
      },
      "execution_count": 20,
      "outputs": []
    },
    {
      "cell_type": "code",
      "source": [
        "analisis_estadistico(iteraciones=31,etiquetasR=iris_labels,\n",
        "                    parametros=para.values(),bandera='DB')"
      ],
      "metadata": {
        "id": "_098I7SvnbOS"
      },
      "execution_count": null,
      "outputs": []
    },
    {
      "cell_type": "markdown",
      "source": [
        "## En el conjunto vino"
      ],
      "metadata": {
        "id": "rS-_2A5jCvcg"
      }
    },
    {
      "cell_type": "code",
      "source": [
        "vino_datos,vino_min,vino_max,vino_labels = recuperar(path+'/replicaVino.pickle')"
      ],
      "metadata": {
        "id": "PbGggHMuD3Ch"
      },
      "execution_count": null,
      "outputs": []
    },
    {
      "cell_type": "code",
      "source": [
        "vino_minmax = normalizar(vino_datos)"
      ],
      "metadata": {
        "id": "7XLNseMdn7tm"
      },
      "execution_count": null,
      "outputs": []
    },
    {
      "cell_type": "code",
      "source": [
        "#parametros para replicar los resultados con sse como funcion costo\n",
        "paravino = {'datos':vino_datos,\n",
        "        'n_g':3,'T':0.15,'T_f':0.001,'T_dist':6,'T_dist_f':0.25,\n",
        "        'alpha':.95,'alpha_dist':.985,\n",
        "        'MaxIter':2*len(vino_datos),'f_obj':costo}"
      ],
      "metadata": {
        "id": "pIQDl6D7ooyC"
      },
      "execution_count": null,
      "outputs": []
    },
    {
      "cell_type": "code",
      "source": [
        "analisis_estadistico(iteraciones=31,etiquetasR=vino_labels,\n",
        "                    parametros=paravino.values(),banera='sse')"
      ],
      "metadata": {
        "id": "HeC3Rxfcox8C"
      },
      "execution_count": null,
      "outputs": []
    },
    {
      "cell_type": "code",
      "source": [
        "#parametros para replicar los resultados con DB como funcion costo\n",
        "paravino = {'datos':vino_datos,\n",
        "        'n_g':3,'T':0.15,'T_f':0.001,'T_dist':6,'T_dist_f':0.25,\n",
        "        'alpha':.95,'alpha_dist':.985,\n",
        "        'MaxIter':2*len(vino_datos),'f_obj':costoDB}"
      ],
      "metadata": {
        "id": "6VUr31FqoyVh"
      },
      "execution_count": null,
      "outputs": []
    },
    {
      "cell_type": "code",
      "source": [
        "analisis_estadistico(iteraciones=31,etiquetasR=vino_labels,\n",
        "                    parametros=paravino.values(),banera='DB')"
      ],
      "metadata": {
        "id": "NzmDm5bipULH"
      },
      "execution_count": null,
      "outputs": []
    },
    {
      "cell_type": "markdown",
      "source": [
        "## En el conjunto Vidrio"
      ],
      "metadata": {
        "id": "-dX2ur8bC-Q_"
      }
    },
    {
      "cell_type": "code",
      "source": [
        "vidrio_datos,vidrio_min,vidrio_max,vidrio_labels = recuperar(path+'/replicaVidrio.pickle')"
      ],
      "metadata": {
        "id": "I6FPWPETEFIo"
      },
      "execution_count": null,
      "outputs": []
    },
    {
      "cell_type": "code",
      "source": [
        "vidrio_minmax = normalizar(vidrio_datos)"
      ],
      "metadata": {
        "id": "2EXOmqVSpYav"
      },
      "execution_count": null,
      "outputs": []
    },
    {
      "cell_type": "code",
      "source": [
        "#parametros para replicar los resultados con sse como funcion costo\n",
        "para = {'datos':vidrio_datos,\n",
        "        'n_g':6,'T':0.15,'T_f':0.001,'T_dist':6,'T_dist_f':0.25,\n",
        "        'alpha':.95,'alpha_dist':.985,\n",
        "        'MaxIter':2*len(vidrio_datos),'f_obj':costo}"
      ],
      "metadata": {
        "id": "9J7dET0MpcQF"
      },
      "execution_count": null,
      "outputs": []
    },
    {
      "cell_type": "code",
      "source": [
        "analisis_estadistico(iteraciones=31,etiquetasR=vidrio_labels,\n",
        "                    parametros=para.values(),bandera='sse')"
      ],
      "metadata": {
        "id": "KUHLLYrJplXM"
      },
      "execution_count": null,
      "outputs": []
    },
    {
      "cell_type": "code",
      "source": [
        "#parametros para replicar los resultados con DB como funcion costo\n",
        "para = {'datos':vidrio_datos,\n",
        "        'n_g':6,'T':0.15,'T_f':0.001,'T_dist':6,'T_dist_f':0.25,\n",
        "        'alpha':.95,'alpha_dist':.985,\n",
        "        'MaxIter':2*len(vidrio_datos),'f_obj':costoDB}"
      ],
      "metadata": {
        "id": "vS0tZrCZpp_6"
      },
      "execution_count": null,
      "outputs": []
    },
    {
      "cell_type": "code",
      "source": [
        "analisis_estadistico(iteraciones=31,etiquetasR=vidrio_labels,\n",
        "                    parametros=para.values(),bandera='DB')"
      ],
      "metadata": {
        "id": "HgoKAfKFpp_7"
      },
      "execution_count": null,
      "outputs": []
    },
    {
      "cell_type": "markdown",
      "source": [
        "## En el conjunto cancer"
      ],
      "metadata": {
        "id": "8rRSrxmWDByt"
      }
    },
    {
      "cell_type": "code",
      "source": [
        "cancer_datos,cancer_min,cancer_max,cancer_labels = recuperar(path+'/replicaCancer.pickle')"
      ],
      "metadata": {
        "id": "WoYmC3rHDL-F"
      },
      "execution_count": null,
      "outputs": []
    },
    {
      "cell_type": "code",
      "source": [
        "cancer_minmax = normalizar(cancer_datos)"
      ],
      "metadata": {
        "id": "jCeEpto6oNnE"
      },
      "execution_count": null,
      "outputs": []
    },
    {
      "cell_type": "code",
      "source": [
        "#parametros para replicar los resultados con SSE como funcion costo\n",
        "para = {'datos':cancer_minmax,\n",
        "        'n_g':2,'T':0.15,'T_f':0.001,'T_dist':6,'T_dist_f':0.25,\n",
        "        'alpha':.95,'alpha_dist':.985,\n",
        "        'MaxIter':2*(len(cancer_datos)),'f_obj': costo}"
      ],
      "metadata": {
        "id": "dlA63aQ5oE2N"
      },
      "execution_count": null,
      "outputs": []
    },
    {
      "cell_type": "code",
      "source": [
        "analisis_estadistico(iteraciones=31,etiquetasR=cancer_labels,\n",
        "                    parametros=para.values(),bandera='sse')"
      ],
      "metadata": {
        "id": "mvSkSp1FoUSF"
      },
      "execution_count": null,
      "outputs": []
    },
    {
      "cell_type": "code",
      "source": [
        "#parametros para replicar los resultados con DB como funcion costo\n",
        "para = {'datos':cancer_minmax,\n",
        "        'n_g':2,'T':0.15,'T_f':0.001,'T_dist':6,'T_dist_f':0.25,\n",
        "        'alpha':.95,'alpha_dist':.985,\n",
        "        'MaxIter':2*(len(cancer_datos)),'f_obj': costoDB}"
      ],
      "metadata": {
        "id": "p_is3ZKnobsk"
      },
      "execution_count": null,
      "outputs": []
    },
    {
      "cell_type": "code",
      "source": [
        "analisis_estadistico(iteraciones=31,etiquetasR=cancer_labels,\n",
        "                    parametros=para.values(),bandera='DB')"
      ],
      "metadata": {
        "id": "b3XSDJRnokUT"
      },
      "execution_count": null,
      "outputs": []
    }
  ]
}