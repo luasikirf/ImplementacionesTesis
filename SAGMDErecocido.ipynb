{
  "nbformat": 4,
  "nbformat_minor": 0,
  "metadata": {
    "colab": {
      "provenance": [],
      "collapsed_sections": [
        "RrhxRbGHrGVy",
        "ffcRifyarGti"
      ]
    },
    "kernelspec": {
      "name": "python3",
      "display_name": "Python 3"
    },
    "language_info": {
      "name": "python"
    }
  },
  "cells": [
    {
      "cell_type": "markdown",
      "source": [
        "# Librerias\n"
      ],
      "metadata": {
        "id": "RrhxRbGHrGVy"
      }
    },
    {
      "cell_type": "code",
      "source": [
        "import numpy as np\n",
        "import random\n",
        "import copy\n",
        "import pandas as pd\n",
        "from sklearn.metrics.pairwise import euclidean_distances"
      ],
      "metadata": {
        "id": "tbNjmuHyrLYC"
      },
      "execution_count": 17,
      "outputs": []
    },
    {
      "cell_type": "markdown",
      "source": [
        "# Implementacion"
      ],
      "metadata": {
        "id": "ffcRifyarGti"
      }
    },
    {
      "cell_type": "code",
      "execution_count": 2,
      "metadata": {
        "id": "m8PKd9yJEbBY"
      },
      "outputs": [],
      "source": [
        "class solucion:\n",
        "  def __init__(self,centros = []):\n",
        "    self.centros = centros\n",
        "    self.particion = []\n",
        "    self.costo = None"
      ]
    },
    {
      "cell_type": "code",
      "execution_count": 3,
      "metadata": {
        "id": "Nne2FxHpHM8A"
      },
      "outputs": [],
      "source": [
        "def gaussiano(SolAct,delta):\n",
        "  '''diferencias es un vector con las diferencias\n",
        "  entre maximo y minimo de cada componente, el cual\n",
        "  se utiliza para no tener que normalizar los datos '''\n",
        "  vecina = solucion(copy.deepcopy(SolAct.centros))\n",
        "  centro = np.random.randint(0,len(SolAct.centros))\n",
        "  Ga = random.gauss(0,1)\n",
        "  vecina.centros[centro] += (Ga*delta)\n",
        "  return(vecina)"
      ]
    },
    {
      "cell_type": "code",
      "execution_count": 4,
      "metadata": {
        "id": "UckVNaA7sQAy"
      },
      "outputs": [],
      "source": [
        "def costo(datos,sol):\n",
        "  '''como usamos SSE debemos calcular la distancia al cuadrado\n",
        "  entre cada punto y su centroide, y sumar el valor de cada grupo'''\n",
        "  sse = 0\n",
        "  for i,centro in enumerate(sol.centros):\n",
        "    elementos = datos[np.where(sol.particion == i)]\n",
        "    sse+= np.sum(euclidean_distances(elementos,[centro],squared=True))\n",
        "  return(sse)"
      ]
    },
    {
      "cell_type": "code",
      "execution_count": 5,
      "metadata": {
        "id": "swKZuCNXKUJH"
      },
      "outputs": [],
      "source": [
        "def asignar(datos,centros):\n",
        "  '''asigna los datos a su centroide mas cercano verificando\n",
        "  que no haya niguno sin elementos asociados '''\n",
        "  cambios = True\n",
        "  while cambios:\n",
        "    distancias  = euclidean_distances(datos,centros)\n",
        "    etiquetas = np.argmin(distancias, axis = 1)\n",
        "    cambios = False\n",
        "    for i,centro in enumerate(centros):\n",
        "      if np.argwhere(etiquetas==i).size == 0:\n",
        "        centros[i] = random.choice(datos)\n",
        "        cambios=True\n",
        "  return(etiquetas)"
      ]
    },
    {
      "cell_type": "code",
      "execution_count": 6,
      "metadata": {
        "id": "vAdusUjKYNst"
      },
      "outputs": [],
      "source": [
        "def hipercaja(solucion,datos,utilidades):\n",
        "  '''esta funcion mueve un centroide de baja utilidad\n",
        "  a la diagonal de la hipercaja de un grupo con\n",
        "  alta utilidad'''\n",
        "  bajaUtilidad = []; AltaUtilidad = [];\n",
        "  for i,util in enumerate(utilidades):\n",
        "    if util < 1:\n",
        "      bajaUtilidad.append(i)\n",
        "    else:\n",
        "      AltaUtilidad.append(i)\n",
        "  cBaja=random.choice(bajaUtilidad) #centride baja utilidad\n",
        "  cAlta=random.choice(AltaUtilidad) #centroide alta utilidad\n",
        "  elementosCaja = datos[solucion.particion == cAlta] #elemntosd grupo alta utilidad\n",
        "  pMax = np.max(elementosCaja,axis =0) #esquina inferior izq hipercaja\n",
        "  pMin = np.min(elementosCaja,axis =0) #esquina superior derecha hipercaja\n",
        "  avance = pMax/3 - pMin/3 #vector de tamaño 1/3 de la diagonal\n",
        "  #movemos los centroides a sus lugares en la diagonal\n",
        "  solucion.centros[cBaja] = pMin + avance #nueva pos centroide baja U\n",
        "  solucion.centros[cAlta] = pMax - avance #nueva pos centroide alta U"
      ]
    },
    {
      "cell_type": "code",
      "execution_count": 7,
      "metadata": {
        "id": "Rk24QlMSccwn"
      },
      "outputs": [],
      "source": [
        "def calculaDist(solucion,datos):\n",
        "  distorciones = []\n",
        "  ng = len(solucion.centros)\n",
        "  #calculamos la distorcion de todos los grupos\n",
        "  distancias = euclidean_distances(datos,solucion.centros)\n",
        "  distorciones = [np.sum(distancias[np.where(solucion.particion == i),i]) for i in range(ng)]\n",
        "  #calculamos la utilidad\n",
        "  media = np.mean(distorciones)\n",
        "  utilidades = [(x/media) for x in distorciones]\n",
        "  return(utilidades)"
      ]
    },
    {
      "cell_type": "code",
      "execution_count": 8,
      "metadata": {
        "id": "krKSpLCvEKEJ"
      },
      "outputs": [],
      "source": [
        "def distorcion(sol, datos):\n",
        "  '''creamos una nueva solucion moviendo un centro de baja\n",
        "  utilidad cerca de uno de alta utilidad'''\n",
        "  ng = len(sol.centros)\n",
        "  vecina = copy.deepcopy(sol)\n",
        "  #calculamos las utilidades y la media de la distorcion en la sol act\n",
        "  utilidades = calculaDist(vecina,datos)\n",
        "  #movemos un centro de baja utilidad cerca de uno de alta utilidad\n",
        "  hipercaja(vecina,datos,utilidades)\n",
        "  #reasigamos los datos a su centroide mas cercano\n",
        "  vecina.particion = asignar(datos,vecina.centros)\n",
        "  #refinamos los centroides para disminuir la SSE con sus datos\n",
        "  vecina.centros = np.concatenate([np.mean(\n",
        "      datos[np.argwhere(vecina.particion==i)],axis=0)for i in range(ng)])\n",
        "  return(vecina)"
      ]
    },
    {
      "cell_type": "code",
      "execution_count": 10,
      "metadata": {
        "id": "6_VT9UfgiB6L"
      },
      "outputs": [],
      "source": [
        "def recocido(datos,n_g,T,T_f,T_dist,T_dist_f,alpha,alpha_dist,MaxIter,f_obj):\n",
        "  '''datos es el conjunto de datos en formato array\n",
        "  n_g es la cantidad de grupos a formar\n",
        "  T y T_f son temperatura inicialy final para las distorciones gaussianas\n",
        "  T_dist y t_dist_f son el maximo y minimo de temperatura para las distorciones de utilidad\n",
        "  alpha y alpha_dist son los factores de enfriamiento para la temperatura y la temperatura de distorcion\n",
        "  '''\n",
        "  indices = np.array(random.sample(range(len(datos)),n_g))\n",
        "  solActual = solucion(centros=datos[indices])\n",
        "  solActual.particion = asignar(datos,solActual.centros)\n",
        "  solActual.costo = costo(datos,solActual)\n",
        "  best = copy.deepcopy(solActual)\n",
        "  t_best = T\n",
        "  while T >= T_f:\n",
        "    for i in range(MaxIter):\n",
        "      if solActual.costo < best.costo:\n",
        "        best = copy.deepcopy(solActual)\n",
        "        t_best = T\n",
        "      solVecina = gaussiano(solActual,0.001)\n",
        "      solVecina.particion = asignar(datos,solVecina.centros)\n",
        "      solVecina.costo = f_obj(datos,solVecina)\n",
        "      delta = solVecina.costo-solActual.costo\n",
        "      if solVecina.costo < solActual.costo or np.e**(-delta/T) > random.random():\n",
        "        solActual = copy.deepcopy(solVecina)\n",
        "      if i %20 ==0:\n",
        "        vecina = distorcion(solActual,datos)\n",
        "        vecina.particion = asignar(datos,vecina.centros)\n",
        "        vecina.costo = f_obj(datos,vecina)\n",
        "        delta2 = vecina.costo-solActual.costo\n",
        "        if vecina.costo < solActual.costo or np.e**(-delta2/T_dist) > random.random():\n",
        "          solActual = copy.deepcopy(vecina)\n",
        "    if T_dist > T_dist_f:\n",
        "      T_dist *= alpha_dist\n",
        "    else:\n",
        "      T_dist = T_dist_f\n",
        "    T *= alpha\n",
        "  T = t_best\n",
        "  solActual = copy.deepcopy(best)\n",
        "  while T > T_f:\n",
        "    for i in range(MaxIter):\n",
        "      solVecina = gaussiano(solActual,0.001)\n",
        "      solVecina.particion = asignar(datos,solVecina.centros)\n",
        "      solVecina.costo = f_obj(datos,solVecina)\n",
        "      delta = solVecina.costo-solActual.costo\n",
        "      if solVecina.costo < solActual.costo or np.e**(-delta/T) > random.random():\n",
        "        solActual = copy.deepcopy(solVecina)\n",
        "    T *= alpha\n",
        "  return(solActual)"
      ]
    }
  ]
}