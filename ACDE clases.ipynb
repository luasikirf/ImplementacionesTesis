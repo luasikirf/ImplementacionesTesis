{
  "nbformat": 4,
  "nbformat_minor": 0,
  "metadata": {
    "colab": {
      "name": "DEclasesDistancia.ipynb",
      "provenance": [],
      "collapsed_sections": []
    },
    "kernelspec": {
      "name": "python3",
      "display_name": "Python 3"
    },
    "language_info": {
      "name": "python"
    }
  },
  "cells": [
    {
      "cell_type": "code",
      "metadata": {
        "id": "CLk_z46ySucX"
      },
      "source": [
        "import numpy as np\n",
        "from numpy import dot\n",
        "from numpy.linalg import norm\n",
        "import random\n",
        "import pandas as pd\n",
        "from sklearn.metrics import davies_bouldin_score as DB"
      ],
      "execution_count": null,
      "outputs": []
    },
    {
      "cell_type": "code",
      "metadata": {
        "id": "ihWtTFxAS1xr"
      },
      "source": [
        "class individuo:\n",
        "  def __init__(self,k_max,k_min,x_min,x_max,d):\n",
        "    self.cromosoma = list(np.random.random(k_max))\n",
        "    self.checar(k_max,k_min)\n",
        "\n",
        "    for j in range(k_max): #creamos los centroides\n",
        "      self.cromosoma.append(list(np.random.uniform(low=x_min,high=x_max,size=d)))\n",
        "  def checar(ind,k_max,k_min):\n",
        "    ind.activos = [i for i in range(k_max) if ind.cromosoma[i] > 0.5]\n",
        "    while len(ind.activos) < k_min:\n",
        "      ind.cromosoma = list(np.random.random(k_max))\n",
        "      ind.activos = [i for i in range(k_max) if ind.cromosoma[i] > 0.5]\n",
        "  aptitud = None\n",
        "  objetivo = None\n",
        "  particion = None"
      ],
      "execution_count": null,
      "outputs": []
    },
    {
      "cell_type": "code",
      "metadata": {
        "id": "5pjKWDRjS3ud"
      },
      "source": [
        "class individuo_vacio:\n",
        "  cromosoma = []\n",
        "  activos = []\n",
        "  aptitud = None\n",
        "  objetivo = None\n",
        "  particion = None"
      ],
      "execution_count": null,
      "outputs": []
    },
    {
      "cell_type": "code",
      "metadata": {
        "id": "p_Pyc2XrTm1c"
      },
      "source": [
        "def euclideana(x1,x2,flag = False):\n",
        "  '''la bandera nos indica si se calcula distancia entre datos \n",
        "  o entre un dato y un centroide, cuando es True indica distancia\n",
        "  entre 2 puntos'''\n",
        "  global distanciasP\n",
        "  if flag == False:\n",
        "    return( np.linalg.norm(np.array(x1)-np.array(x2) ) )\n",
        "  else:\n",
        "    try:\n",
        "      return(distanciasP[str(x1+x2)])\n",
        "    except:\n",
        "      try:\n",
        "        return(distanciasP[str(x2+x1)])\n",
        "      except:\n",
        "        dist = np.linalg.norm(np.array(x1)-np.array(x2) )\n",
        "        distanciasP[str(x2+x1)] = dist\n",
        "        distanciasP[str(x1+x2)] = dist\n",
        "        return(distanciasP[str(x1+x2)])"
      ],
      "execution_count": null,
      "outputs": []
    },
    {
      "cell_type": "code",
      "source": [
        "def coseno(x1 , x2, flag = False ):\n",
        "  '''la bandera nos indica si se calcula distancia entre datos \n",
        "  o entre un dato y un centroide, cuando es True indica distancia\n",
        "  entre 2 puntos'''\n",
        "  global distanciasP\n",
        "  if flag == False:\n",
        "    return( dot(x1, x2)/(norm(x1)*norm(x2)) )\n",
        "  else:\n",
        "    try:\n",
        "      return(distanciasP[str(x1+x2)])\n",
        "    except:\n",
        "      try:\n",
        "        return(distanciasP[str(x2+x1)])\n",
        "      except:\n",
        "        dist = dot(x1, x2)/(norm(x1)*norm(x2))\n",
        "        distanciasP[str(x2+x1)] = dist\n",
        "        distanciasP[str(x1+x2)] = dist\n",
        "        return(distanciasP[str(x1+x2)])"
      ],
      "metadata": {
        "id": "gyUqvB_OEzRM"
      },
      "execution_count": null,
      "outputs": []
    },
    {
      "cell_type": "code",
      "metadata": {
        "id": "SYTFfedwS_kT"
      },
      "source": [
        "def obtener_elementos(particion,cluster,datos):\n",
        "  '''\n",
        "  Devuelve los elemetos que forman parte del cluster especificado,\n",
        "  ya que los guardamos en una lista simple, donde el indice indica \n",
        "  el numero del elemento y el valor indica el cluster al que pertenece.\n",
        "  '''\n",
        "  return( [datos[i] for i in range(len(particion)) if particion[i] == cluster])"
      ],
      "execution_count": null,
      "outputs": []
    },
    {
      "cell_type": "code",
      "metadata": {
        "id": "kVblvIE_TEjb"
      },
      "source": [
        "def repartir_datos(len_datos,activos):\n",
        "  r = []\n",
        "  c = 0\n",
        "  while len(r) < len_datos:\n",
        "    r.append(activos[c])\n",
        "    if c !=len(activos)-1:\n",
        "      c+=1\n",
        "    else:\n",
        "      c=0\n",
        "  return(r)"
      ],
      "execution_count": null,
      "outputs": []
    },
    {
      "cell_type": "code",
      "metadata": {
        "id": "WDBLabf6TGuQ"
      },
      "source": [
        "#version funcional\n",
        "def completar_individuo(individuo , datos : list,k_max : int, f_distancia,x:min,x_max,aptitud,eps = 0.0001):\n",
        "  '''esta funcion agrega los datos que le hacen falta a los individuos cuando\n",
        "  son recien creados, le agrega su particion de elementos y el valor de que\n",
        "  toma en la funcion objetivo '''\n",
        "\n",
        "  'primero agregamos la particion'\n",
        "  particion = [] \n",
        "  for dato in datos:\n",
        "    #cambiar por un for\n",
        "    centro = 0\n",
        "    menor = f_distancia( dato,individuo.cromosoma[k_max] )\n",
        "    for i in range(1,k_max):\n",
        "      if individuo.cromosoma[i] > 0.5:\n",
        "        x = f_distancia( dato,individuo.cromosoma[k_max+i] )\n",
        "        if x < menor:\n",
        "          menor = x\n",
        "          centro = i\n",
        "    particion.append(centro)\n",
        "  individuo.particion = particion\n",
        "\n",
        "  'Algunos cromosomas dan errores, aqui verificamos si es el caso, si asi fuera, lo solucionamos cambiando la particion'\n",
        "  for grupo in individuo.activos:\n",
        "    cant_ele = 0 # sum([1 for i in individuo.particion if i == grupo])\n",
        "    for punto in individuo.particion:\n",
        "      if punto == grupo:\n",
        "        cant_ele +=1\n",
        "    'un cromosoma defectuosos es el que contiene algun centro con menos de 2 elementos, verificamos si esto pasa'\n",
        "    if cant_ele < 2:\n",
        "      individuo.particion = repartir_datos(len(datos),individuo.activos)\n",
        "      break\n",
        "  individuo.objetivo = aptitud(individuo,datos,k_max,f_distancia)\n",
        "  individuo.aptitud = 1 / (individuo.objetivo + eps)"
      ],
      "execution_count": null,
      "outputs": []
    },
    {
      "cell_type": "code",
      "metadata": {
        "id": "41HBnFnETJwj"
      },
      "source": [
        "def calcular_centroide(centro,elementos):\n",
        "  return(list(np.mean(elementos,axis = 0)))"
      ],
      "execution_count": null,
      "outputs": []
    },
    {
      "cell_type": "code",
      "metadata": {
        "id": "5ZzWrkBETM03"
      },
      "source": [
        "#version final sin listas comprension\n",
        "def cs(individuo, datos : list,k_max,f_distancia):\n",
        "  dividendo = []\n",
        "  divisor = []\n",
        "  centros = individuo.cromosoma[k_max::]\n",
        "  for centro in individuo.activos:\n",
        "    elementos = obtener_elementos(individuo.particion,centro,datos)\n",
        "    centros[centro] = calcular_centroide(centro,elementos)\n",
        "    'vamos a calcular la distancia mas grande de un punto a cualquier otro, para todos los puntos en el grupo'\n",
        "    distancias_puntos = []\n",
        "    for i in range(len( elementos)):\n",
        "      max = 0\n",
        "      for j in range(len(elementos)):\n",
        "        if j != i:\n",
        "          dist = f_distancia(elementos[i],elementos[j])\n",
        "          if dist > max:\n",
        "            max = dist\n",
        "      distancias_puntos.append(max)\n",
        "    dividendo.append(np.mean(distancias_puntos))\n",
        "    'ahora calculamos las mimimas distancias entre los centroides de cada grupo'\n",
        "    min = 9999999\n",
        "    for x in individuo.activos:\n",
        "      if x != centro:\n",
        "        entre_grupos = f_distancia(centros[centro],centros[x])\n",
        "        if entre_grupos < min:\n",
        "          min = entre_grupos\n",
        "    divisor.append( min  )\n",
        "  'actualizamos la informacion del individuo, ya que alteramos una copia de sus datos'\n",
        "  individuo.cromosoma[k_max::] = centros\n",
        "  return(np.mean(dividendo) / np.mean(divisor))"
      ],
      "execution_count": null,
      "outputs": []
    },
    {
      "cell_type": "code",
      "source": [
        "def imprimir(soluciones,m):\n",
        "  mejor = soluciones[0]\n",
        "  peor = soluciones[0]\n",
        "  grupos = []\n",
        "  puntuaciones = []\n",
        "  for sol in soluciones:\n",
        "    grupos.append(len(sol.activos))\n",
        "    puntuaciones.append(sol.objetivo )\n",
        "    if sol.objetivo < mejor.objetivo:\n",
        "      mejor = sol\n",
        "    if sol.objetivo > peor.objetivo:\n",
        "      peor = sol\n",
        "  grupos_p = np.mean(grupos)\n",
        "  std = np.std(puntuaciones) ; media = np.mean(puntuaciones);\n",
        "  print(f'DEspues de {m} iteraciones, estos son los resultados:')\n",
        "  print(f'La mejor solucion fue {mejor.cromosoma}' )\n",
        "  print(f'con un valor en la funcion objetivo de {mejor.objetivo}')\n",
        "  print(f'La peor solucion fue {peor.cromosoma}' )\n",
        "  print(f'con un valor en la funcion objetivo de {peor.objetivo}')\n",
        "  print(f'En promedio se obtiene un valor en F(x) de {media}')\n",
        "  print(f'Se tiene una desviacion estandar de {std}')\n",
        "  print(f'Las soluciones tienen en promedio {grupos_p} grupos')"
      ],
      "metadata": {
        "id": "cU7pHcSvCfF-"
      },
      "execution_count": null,
      "outputs": []
    },
    {
      "cell_type": "code",
      "metadata": {
        "id": "5XPAnqWQTRT8"
      },
      "source": [
        "def ACDE(cr_max, cr_min, k_max, k_min, pop_size, x_min, x_max, d : int, max_eval, datos : list,f_distancia,aptitud,M : int,eps = 0.0001):\n",
        "  '''\n",
        "  cr_max es el valor maximo que puede tomar la constante de cruza\n",
        "  cr_min es el minimo valor que puede tomar la CR\n",
        "  k_max el numero maximo de grupos que puede haber\n",
        "  k_min el minimo de rupos que deben de considerarse\n",
        "  pop_size tamaño de la poblacion\n",
        "  x_max y x_min sirven para delimitar el rango de valores que pueden\n",
        "  tener los datos, por ejemplo, estan en el rango (0,2)\n",
        "  d es la dimension de los datos R2 : (x,y), R3 : (x,y,z) etc\n",
        "  max_eval es la cantidad maxima de llamadas a la funcion aptitud CS\n",
        "  datos es una lista con los datos a ordenar\n",
        "  ADVERTENCIA LA CANTIDAD DE DATOS DEBE SER AL MENOS 2 VECES LA CANTIDAD DE GRUPOS\n",
        "  '''\n",
        "  global distanciasP\n",
        "  distanciasP= {}\n",
        "  mejores = []\n",
        "  for iterador in range(M):\n",
        "    'creamos la poblacion inicial y le agregamos sus particiones y valores en CS'\n",
        "    poblacion = [individuo(k_max,k_min,x_min,x_max,d) for i in range(pop_size)]\n",
        "    for ind in poblacion:\n",
        "      completar_individuo(ind, datos, k_max,f_distancia,x_min,x_max,aptitud,eps)\n",
        "    'iteramos el algoritmo t generaciones, para saber cuantas deben ser, al numero de evaluaciones restamos pop_size y dividimos entre pop_size'\n",
        "    iter = (max_eval)//pop_size\n",
        "    best = sorted(poblacion, key= lambda x: x.aptitud, reverse=True)[0]\n",
        "\n",
        "    'la siguiente lista es solo para darse una idea de cuanto va avanzando el algoritmo'\n",
        "    avance = np.linspace(0,10000,num=100)\n",
        "\n",
        "    for t in range(1,iter+1):\n",
        "      cr = (cr_max-cr_min) * ((iter-t) / iter)\n",
        "      F = 0.5*(1+np.random.random())\n",
        "      'recorremos individuo a individuo para aplicar ED'\n",
        "      for ind in poblacion:\n",
        "        intento = individuo_vacio()\n",
        "        a,b,c = random.sample(poblacion,3)\n",
        "        'hacemos la cruza y mutacion para darle valores al individuo intento'\n",
        "        l = []\n",
        "        for i in range(len(ind.cromosoma)):\n",
        "          if np.random.random() < cr:\n",
        "            if i < k_max:\n",
        "              res = c.cromosoma[i] + F*(a.cromosoma[i]-b.cromosoma[i])\n",
        "              if res >= x_min and res <= x_max: #verificamos que el resultado de la cruza no se salga del intervalo de busqueda\n",
        "                l.append(res)\n",
        "              else:\n",
        "                l.append( np.random.uniform(low=x_min,high=x_max) )\n",
        "            else:\n",
        "              cruzado = [c.cromosoma[i][j] + F*(a.cromosoma[i][j]-b.cromosoma[i][j]) for j in range(d)     ]\n",
        "              for x in range(d): #vemos que los centros no se salgan del espacio de busqueda\n",
        "                if cruzado[x] < x_min or cruzado[x] > x_max:\n",
        "                  cruzado[x] = np.random.uniform(low=x_min,high=x_max)\n",
        "              l.append( cruzado  )\n",
        "          else:\n",
        "            l.append(ind.cromosoma[i])\n",
        "        intento.cromosoma = l\n",
        "        intento.activos = [j for j in range(k_max) if intento.cromosoma[j] > 0.5]\n",
        "        'existe la posibilidad, de que al cruzar no se cumpla que hayan almenos k_min cluster activos, si esto pasa reiniciamos los coeficientes'\n",
        "        while len(intento.activos) < k_min:\n",
        "          intento.cromosoma[:k_max] = np.random.random(k_max)\n",
        "          lis = []\n",
        "          for ts in range(k_max):\n",
        "            if intento.cromosoma[ts] > 0.5:\n",
        "              lis.append(ts)\n",
        "          intento.activos = lis\n",
        "        completar_individuo(intento, datos, k_max,f_distancia,x_min,x_max,aptitud,eps)\n",
        "        if intento.aptitud > ind.aptitud:\n",
        "          poblacion[poblacion.index(ind)]= intento\n",
        "        if intento.aptitud > best.aptitud:\n",
        "          best = intento\n",
        "      if t in avance:\n",
        "        print('vamos en la iteracion',t,'avance: ',t/10,'%')\n",
        "    #print('mejor',best.cromosoma,'puntiacion',best.objetivo)\n",
        "    mejores.append(best)\n",
        "  imprimir(mejores,M)\n",
        "  return(mejores)"
      ],
      "execution_count": null,
      "outputs": []
    },
    {
      "cell_type": "code",
      "metadata": {
        "id": "R1eSCIAYTT-N"
      },
      "source": [
        "iris = pd.read_csv('/content/drive/MyDrive/csv/iris_data.csv',header=None);\n",
        "iris.columns = [0,1,2,3,'clase']\n",
        "iris.drop(['clase'],axis = 1,inplace=True)\n",
        "iris = iris.to_numpy()"
      ],
      "execution_count": null,
      "outputs": []
    },
    {
      "cell_type": "code",
      "metadata": {
        "id": "Men5gxMQ1QlS"
      },
      "source": [
        "glass = pd.read_csv('/content/drive/MyDrive/csv/glass_data.csv',header=None);\n",
        "glass.columns = ['id',1,2,3,4,5,6,7,8,9,10]\n",
        "glass.drop(['id'],axis = 1,inplace=True)\n",
        "glass = glass.to_numpy()"
      ],
      "execution_count": null,
      "outputs": []
    },
    {
      "cell_type": "code",
      "source": [
        "wine = pd.read_csv('/content/drive/MyDrive/csv/wine.csv')\n",
        "wine.columns = ['id',0,1,2,3,4,5,6,7,8,9,10,11,12]\n",
        "wine.drop(['id'],axis = 1,inplace=True)\n",
        "wine = wine.to_numpy()"
      ],
      "metadata": {
        "id": "9NhCe4dopgzD"
      },
      "execution_count": null,
      "outputs": []
    },
    {
      "cell_type": "code",
      "source": [
        "#cancer = pd.read_csv('/content/drive/MyDrive/csv/breast-cancer-wisconsin.csv',header=None)"
      ],
      "metadata": {
        "id": "Qfq-W0bJrs-M"
      },
      "execution_count": null,
      "outputs": []
    },
    {
      "cell_type": "markdown",
      "source": [
        "# Analizis cualitativo"
      ],
      "metadata": {
        "id": "y_RSzUhX0Ng8"
      }
    },
    {
      "cell_type": "markdown",
      "source": [
        "## Indice de clustering: CS measure"
      ],
      "metadata": {
        "id": "_oErPVYs0m2D"
      }
    },
    {
      "cell_type": "markdown",
      "source": [
        "### corriendo 30 veces el algoritmo"
      ],
      "metadata": {
        "id": "3tOa_t9U0Q5l"
      }
    },
    {
      "cell_type": "markdown",
      "source": [
        "Iris"
      ],
      "metadata": {
        "id": "TSOm4JU60WBf"
      }
    },
    {
      "cell_type": "code",
      "source": [
        "ACDE(cr_max=1,cr_min=0.5,k_max=20,k_min=2,pop_size=10,x_min=0.1,x_max=7.9,d = 4,\n",
        "     max_eval=10000,datos=iris,f_distancia=euclideana,aptitud=cs,M = 30,eps=0.01)"
      ],
      "metadata": {
        "id": "uQnibMyPyPuu",
        "colab": {
          "base_uri": "https://localhost:8080/"
        },
        "outputId": "bda4bef6-b609-4d7e-bd54-039977306f5e"
      },
      "execution_count": null,
      "outputs": [
        {
          "output_type": "stream",
          "name": "stdout",
          "text": [
            "DEspues de 30 iteraciones, estos son los resultados:\n",
            "La mejor solucion fue [0.31847206145034423, 0.10546050463263262, 0.3978744962925649, 0.9739302510423562, 0.42944263547031547, 0.4492455980719591, 0.20328077371026054, 0.10854847349238805, 0.17081807551564288, 0.38792566199453365, 0.12791360010723987, 0.36634601020275037, 0.6687416309918903, 0.3073590288005701, 0.26694868494555224, 0.1908331962692586, 0.41983343167522613, 0.4274593908065854, 0.4927901923964413, 0.11473072131436168, [6.158626084468011, 3.0733251024945565, 4.043495058314957, 1.249402516923941], [7.720000000000001, 3.2, 6.660000000000001, 2.12], [1.7418902972890988, 1.895841002878568, 2.4693512810043874, 1.5608519110417833], [5.005999999999999, 3.4180000000000006, 1.464, 0.2439999999999999], [1.273940372709975, 3.057514167529745, 3.798728120753086, 6.203919638392355], [7.039273623755392, 5.091199088711615, 5.8452219095411095, 1.9572336146504496], [5.163293700416045, 3.336117903861824, 7.534900144942507, 4.913336807271491], [2.446494421772899, 4.627398362640254, 0.28922799907436697, 2.63745113776543], [3.950097799110714, 1.9331716118521733, 1.1057770853185191, 2.507632224245679], [6.902234049120476, 2.4251714383792766, 6.537495203177948, 4.3661295722993], [1.4928821959273293, 2.1284718468221717, 0.47880049785207923, 1.2412444380846235], [7.114478198461913, 1.3243063953885545, 2.776053982286264, 6.7240589707360865], [7.7, 2.7, 6.800000000000001, 2.15], [3.965892024685928, 3.781783605996494, 4.000880315591097, 0.10426744900247414], [5.662857142857142, 2.651428571428571, 4.062857142857143, 1.2542857142857142], [5.641387545498136, 3.0726770050576633, 3.4055823238667235, 1.169628122681985], [7.794572197327289, 5.557054939674017, 1.666315285475158, 5.80660413247919], [6.949330193204399, 0.7976987764427047, 6.069372662418445, 7.167523032281454], [5.62829821127666, 3.1734042850036808, 3.7075894561080176, 1.2281629657791324], [3.573503856364165, 0.45729878346790465, 6.577906438282919, 2.180052663905257]]\n",
            "con un valor en la funcion objetivo de 0.1585441494317895\n",
            "La peor solucion fue [0.4005391938900903, 0.0645783556332713, 0.09649289057652244, 0.8984177592310925, 0.6070146958937942, 0.6535931188199308, 0.196054334677642, 0.10320431725996038, 0.16969433221214758, 0.3397565589722831, 0.039292269009008285, 0.9865984144228145, 0.450797596253377, 0.3185874006050422, 0.6124939370290001, 0.9409618199816114, 0.5454122207097644, 0.3245273177968694, 0.4077955597241225, 0.8601229357692081, [3.6894303303689804, 2.75809995201568, 5.536983074621698, 3.1392960660725495], [7.898184526403332, 4.052739652804716, 5.351605760125608, 0.17732503070277744], [5.181071327574911, 1.4971127531477553, 0.5283795941731539, 1.1052426160627085], [5.778947368421052, 3.194736842105263, 3.6578947368421053, 1.2263157894736842], [5.7368421052631575, 2.942105263157895, 3.547368421052631, 1.0789473684210527], [5.8, 2.978947368421052, 3.7105263157894743, 1.163157894736842], [7.888640800087384, 4.074599684314643, 1.979435068738419, 2.038204977653461], [5.07690948989028, 7.1669614446133725, 5.640482698110549, 6.558051132251128], [5.392026511971533, 7.0826133554636, 0.9932790439190952, 5.681487535229976], [5.343672514595556, 2.2277077428230756, 7.556783328168973, 5.349603179657382], [2.4422791116714224, 7.824056451137908, 5.589937776337543, 2.8036929869784277], [5.936842105263159, 3.121052631578947, 3.8473684210526313, 1.2263157894736845], [2.2968334682718887, 4.043885883937602, 1.3090034568377493, 6.4280161519309145], [1.2441317155025142, 2.776642315267204, 6.722492421483198, 2.1776968630507185], [5.926315789473684, 3.0421052631578944, 3.9421052631578952, 1.2894736842105263], [5.836842105263159, 3.0842105263157897, 3.8368421052631576, 1.2473684210526317], [5.855555555555555, 3.0388888888888896, 3.7944444444444443, 1.1888888888888889], [1.7146972611948406, 7.104210177586489, 5.400111816685073, 1.2095481550919176], [1.5203927692284274, 1.4392868000976038, 7.528989050249621, 1.5318700345428058], [5.877777777777777, 3.027777777777778, 3.7333333333333334, 1.1666666666666667]]\n",
            "con un valor en la funcion objetivo de 6.884214667110152\n",
            "En promedio se obtiene un valor en F(x) de 0.8268654925553277\n",
            "Se tiene una desviacion estandar de 1.4051018508019129\n",
            "Las soluciones tienen en promedio 2.9 grupos\n"
          ]
        }
      ]
    },
    {
      "cell_type": "markdown",
      "source": [
        "Glass"
      ],
      "metadata": {
        "id": "rwWwMsmC0bva"
      }
    },
    {
      "cell_type": "code",
      "source": [
        "maximo = max([x for y in glass for x in y]);print(maximo)\n",
        "minimo = min([x for y in glass for x in y]); print(minimo)"
      ],
      "metadata": {
        "colab": {
          "base_uri": "https://localhost:8080/"
        },
        "id": "d-pN3zrn7l3X",
        "outputId": "923dfb61-9250-4b63-d3ab-b6e0b6322dc9"
      },
      "execution_count": null,
      "outputs": [
        {
          "output_type": "stream",
          "name": "stdout",
          "text": [
            "75.41\n",
            "0.0\n"
          ]
        }
      ]
    },
    {
      "cell_type": "code",
      "source": [
        "ACDE(cr_max=1,cr_min=0.5,k_max=20,k_min=2,pop_size=10,x_min=0.0,x_max=75.41,d = 10,\n",
        "     max_eval=10000,datos=glass,f_distancia=euclideana,aptitud=cs,M = 30,eps=0.01)"
      ],
      "metadata": {
        "id": "IaqPHakN0a_0",
        "colab": {
          "base_uri": "https://localhost:8080/"
        },
        "outputId": "5664a908-f451-4e47-c054-59fd4dc633b5"
      },
      "execution_count": null,
      "outputs": [
        {
          "output_type": "stream",
          "name": "stdout",
          "text": [
            "DEspues de 30 iteraciones, estos son los resultados:\n",
            "La mejor solucion fue [0.3367026228564235, 0.2684309035603588, 0.216265714423588, 0.19998282404455717, 0.31194270891553505, 0.04861871210539448, 0.21325943001106948, 0.3017638541902396, 0.09893528675266727, 0.9438450860203019, 0.40787973350564655, 0.3848739199928334, 1.0909251846117138, 0.4172819957475463, 0.09928603700801286, 0.4500564953958767, 0.02935540912617518, 0.08079471946704958, 0.4878764827435113, 0.23048267869053865, [1.5178418518518515, 13.51037037037037, 2.675925925925926, 1.465, 72.71388888888889, 0.529074074074074, 8.839629629629629, 0.0962962962962963, 0.05481481481481481, 2.7777777777777777], [41.129979418910374, 55.19710841078845, 46.03697735879916, 49.23563453803219, 56.712621852156474, 28.894591005167978, 2.5781717707879297, 63.27676803694739, 16.859426737457326, 28.84989205983568], [41.25037316330123, 64.62506387480212, 40.285005765790764, 57.828229735605284, 20.885781601977314, 17.59999599981295, 15.780202022118603, 65.03988222820439, 57.36653184936917, 2.131060350747662], [63.196519464255154, 23.182672733010282, 11.026131320532164, 47.26814926102481, 53.171417951321025, 22.3570371695669, 42.92381807351725, 58.8929844052906, 18.82154021404736, 8.254609565749451], [1.5172316724044406, 13.516833377136575, 2.399021661301589, 1.4507879891196507, 73.15240243846957, 0.37207675741220647, 8.987172127227717, 61.17600973944442, 0.004623772499898627, 2.563282772185994], [4.686452795410757, 15.0151704584189, 7.93539997900918, 19.28795238661268, 52.32890625961661, 64.59052138849505, 63.387321260158224, 61.14846585655124, 24.003065362730283, 31.851574145750632], [19.88331660901067, 33.84297457928372, 67.69468112252694, 27.958623353005017, 68.14522711040459, 21.32212431515894, 32.42760117846226, 40.78480586108073, 24.20094282873169, 40.03016341926363], [1.5181289719626168, 13.423457943925236, 2.7160747663551397, 1.455607476635514, 72.6911214953271, 0.4786915887850467, 8.904392523364484, 0.15682242990654208, 0.06214953271028037, 2.7663551401869158], [58.934788104679946, 11.171874308049023, 23.925614770982783, 71.94646857561982, 8.605083688298883, 26.63800410624234, 68.02769073814449, 24.695649678764948, 63.46291403981365, 22.81059791166258], [1.5181289719626168, 13.423457943925236, 2.7160747663551397, 1.455607476635514, 72.6911214953271, 0.4786915887850467, 8.904392523364484, 0.15682242990654208, 0.06214953271028037, 2.7663551401869158], [1.5184215094339624, 13.334905660377364, 2.7569811320754716, 1.4460377358490566, 72.66792452830188, 0.42735849056603775, 8.970377358490566, 0.2184905660377359, 0.06962264150943397, 2.7547169811320753], [48.01504276602886, 50.37346872084832, 67.03580521977864, 4.6300432085921415, 69.80264241166911, 45.19226794620867, 30.449483941685997, 26.485639429852082, 11.883428557936847, 7.820680784384481], [1.5186018691588785, 13.39224299065421, 2.652990654205608, 1.4342056074766358, 72.6107476635514, 0.5154205607476635, 9.009532710280375, 0.19327102803738316, 0.05186915887850468, 2.794392523364486], [32.35281537738557, 19.326372583668658, 10.704817000669397, 42.51042132232472, 17.527453061640323, 68.12345680063038, 66.51611854250912, 61.92919347202778, 68.40736733544907, 48.50896911763321], [1.5171779710305664, 13.019812587412403, 2.875947102473193, 1.5530841360991279, 73.01929874824926, 0.49039762874367815, 8.485597052874592, 0.32014605495122805, 0.07660454581573667, 2.9007816443131547], [11.86906958053549, 15.31926222932752, 56.07657199048038, 10.765817104642135, 25.271479539154377, 41.956936445833456, 56.925275533982095, 33.499473246142315, 48.932154340623995, 58.632918638856054], [23.117263953126212, 23.373833119314902, 52.8220914954652, 23.539401411388717, 32.45180791115751, 33.342114260179486, 1.7214578211046063, 44.66997138101672, 31.36509910548728, 14.499963115186654], [1.5186018691588785, 13.39224299065421, 2.652990654205608, 1.4342056074766358, 72.6107476635514, 0.5154205607476635, 9.009532710280375, 0.19327102803738316, 0.05186915887850468, 2.794392523364486], [1.5180692857142861, 13.503333333333336, 2.69547619047619, 1.4545238095238096, 72.73785714285717, 0.4533333333333333, 8.825714285714284, 0.14023809523809525, 0.04666666666666667, 2.738095238095238], [1.5186018691588785, 13.39224299065421, 2.652990654205608, 1.4342056074766358, 72.6107476635514, 0.5154205607476635, 9.009532710280375, 0.19327102803738316, 0.05186915887850468, 2.794392523364486]]\n",
            "con un valor en la funcion objetivo de 0.09653890435714346\n",
            "La peor solucion fue [0.38634073068376307, 0.7692096446746162, 0.20597541373439976, 0.634461459296633, 0.17169625834408642, 0.3860193137358371, 0.1271709352741961, 0.8951048774539931, 0.5103352259976861, 0.38897929102027173, 0.1077613592378538, 0.7207901558456128, 0.8881598573049632, 0.4613175032800938, 0.673733858113303, 0.8472088882220753, 0.09383060950028466, 0.6385473104692025, 0.0828660615333705, 0.27997740432082374, [63.545929339447824, 7.450859827787423, 44.97602872323367, 62.640820127148984, 33.69817535698347, 51.69394155057909, 17.987764947448454, 16.362953439720314, 4.470227276586081, 12.775331576317798], [1.5180620833333336, 13.635833333333332, 2.824583333333333, 1.4291666666666663, 72.40583333333332, 0.69, 8.575833333333334, 0.2270833333333333, 0.05791666666666667, 2.6666666666666665], [22.134885342650385, 11.283324103282663, 66.50846869458454, 28.2139356454474, 22.90135650180014, 22.50252151722662, 44.53446833625721, 7.194695087229003, 37.06804525251599, 52.074280274758934], [1.5172812499999997, 13.384166666666667, 2.6266666666666665, 1.6216666666666664, 72.68833333333332, 0.7241666666666666, 8.60625, 0.17250000000000001, 0.08041666666666668, 2.75], [13.797084666000238, 51.80230579187543, 7.625447529734903, 62.502940103147154, 40.66941385458358, 39.42476976118422, 6.510596454926175, 45.977779857844574, 58.63270720839778, 38.840563455643526], [33.5564973089532, 72.33354244635288, 35.53449056817959, 39.0059247535149, 69.00072362137695, 74.5958472676272, 59.129954290330886, 35.12451113612706, 41.310496621217226, 71.6380345158607], [52.00270693768871, 49.443007084089494, 11.5625922082202, 32.458782457911404, 16.325272960114017, 38.020408188865474, 8.723442721055655, 67.06662415125457, 13.676147402615046, 20.849654695373047], [1.5182224999999996, 13.375416666666665, 2.5095833333333335, 1.5004166666666665, 72.73541666666667, 0.3566666666666667, 9.22125, 0.10833333333333334, 0.04750000000000001, 2.7916666666666665], [1.5185879166666665, 13.241666666666667, 2.54, 1.3212499999999998, 72.84833333333334, 0.5058333333333332, 9.25125, 0.09291666666666666, 0.06375, 2.7916666666666665], [55.793184680126444, 51.658010099197995, 39.44826599354304, 69.34158382390574, 50.82249188533645, 9.557340399037455, 1.1723521289565868, 3.5920871173323907, 5.246868051718393, 27.674957207402244], [54.59571353899387, 15.580878316858092, 1.0596604568410675, 43.984103689268, 38.06811164823627, 68.90188325927728, 15.904577946535138, 63.09831361540848, 62.84744928995433, 12.562355034170535], [1.518732916666667, 13.448333333333338, 2.487083333333333, 1.3170833333333332, 72.87208333333335, 0.3820833333333334, 9.16375, 0.15791666666666668, 0.042083333333333334, 2.7916666666666665], [1.5181795833333334, 13.371250000000002, 2.7275000000000005, 1.4345833333333333, 72.69666666666666, 0.44999999999999996, 8.873333333333333, 0.2554166666666667, 0.05083333333333334, 2.875], [23.881087275894266, 17.587421182622947, 17.842723224876973, 6.462983310430876, 45.80296870669178, 72.09260173638889, 43.96604923277624, 66.51344229083404, 44.99088911662395, 39.825027201148494], [1.5181058333333335, 13.387916666666667, 2.7583333333333333, 1.4983333333333333, 72.70916666666666, 0.5104166666666666, 8.787083333333332, 0.19458333333333333, 0.05875, 2.875], [1.5189573913043477, 13.343478260869563, 2.887826086956522, 1.441304347826087, 72.48695652173913, 0.4317391304347827, 8.976521739130437, 0.27217391304347827, 0.04565217391304348, 2.739130434782609], [34.432074910367895, 53.58348037564075, 46.28190985292112, 20.741232704977197, 30.751595437784484, 13.503071370338466, 41.29763089759239, 11.664898174852407, 57.98023761790079, 35.56877044324262], [1.5192195652173914, 13.48304347826087, 2.813043478260869, 1.44, 72.39826086956522, 0.4165217391304348, 9.166956521739127, 0.09521739130434782, 0.06608695652173914, 2.739130434782609], [35.427697608203154, 33.302901426298796, 5.8471169688364055, 40.80170468827424, 11.292732576875222, 34.52239744516269, 63.81761062647481, 54.64534109976821, 74.29006597201023, 67.64113752021721], [38.95186676497616, 15.229463710977775, 49.80261787153372, 0.3949505154477351, 30.104930789831688, 22.80989612217487, 64.82070492764385, 6.42210333887793, 70.91652916526935, 64.03684959975591]]\n",
            "con un valor en la funcion objetivo de 0.6858279424545839\n",
            "En promedio se obtiene un valor en F(x) de 0.3185432739628597\n",
            "Se tiene una desviacion estandar de 0.20005191140725195\n",
            "Las soluciones tienen en promedio 4.766666666666667 grupos\n"
          ]
        }
      ]
    },
    {
      "cell_type": "markdown",
      "source": [
        "Wine"
      ],
      "metadata": {
        "id": "P6YT5lXh0X04"
      }
    },
    {
      "cell_type": "code",
      "source": [
        "maximo = max([x for y in wine for x in y]);print(maximo)\n",
        "minimo = min([x for y in wine for x in y]); print(minimo)"
      ],
      "metadata": {
        "colab": {
          "base_uri": "https://localhost:8080/"
        },
        "id": "c4k-EC7VUReG",
        "outputId": "f494fd47-4470-4d99-95b3-9ebb95e26eb7"
      },
      "execution_count": null,
      "outputs": [
        {
          "output_type": "stream",
          "name": "stdout",
          "text": [
            "1680.0\n",
            "0.13\n"
          ]
        }
      ]
    },
    {
      "cell_type": "code",
      "metadata": {
        "id": "5SbF9-eyTXdw",
        "colab": {
          "base_uri": "https://localhost:8080/"
        },
        "outputId": "91ed6632-90dd-488e-ff9f-d5dd14ce4bc6"
      },
      "source": [
        "mej_wine = individuos = ACDE(cr_max=1,cr_min=0.5,k_max=20,k_min=2,pop_size=10,x_min=0.13,x_max=1680,d = 13,\n",
        "     max_eval=10000,datos=wine,f_distancia=euclideana,aptitud =cs,M = 30,eps=0.01)"
      ],
      "execution_count": null,
      "outputs": [
        {
          "output_type": "stream",
          "name": "stdout",
          "text": [
            "DEspues de 30 iteraciones, estos son los resultados:\n",
            "La mejor solucion fue [0.3807335715645147, 0.09188784075940315, 1.0563466122056688, 0.1654278700960401, 0.23287518983013766, 0.42487941239982163, 0.49918727164420673, 0.15952371498964898, 0.24412011031148007, 0.45332375435433914, 0.3081169127997194, 0.27367011758367854, 0.4799351583156205, 0.1300324127176159, 0.18254586310823256, 0.2409090862436443, 0.07254649182965212, 0.13348993168059642, 0.287377049352999, 0.7969012328397973, [594.7150481230593, 712.7250715888251, 898.2873317081733, 1473.5210253226924, 1578.7423649063296, 1558.864441246141, 684.0317535076738, 86.54242640819706, 698.7309078376287, 1334.2151221458762, 582.0354250397531, 1545.555360533119, 612.6045837504156], [365.2833339172953, 1049.620648135161, 960.7699051082868, 1524.2401351517312, 1199.4934407474732, 415.3745984039383, 1317.151882718158, 1019.1816938666269, 28.29267769558247, 170.1889399985774, 726.7701606265315, 1335.0687891363589, 221.89275072072476], [13.827804878048779, 1.9104878048780494, 2.431707317073171, 16.7609756097561, 104.26829268292683, 2.8648780487804872, 3.0309756097560983, 0.28707317073170735, 1.9009756097560981, 5.8239024390243905, 1.0770731707317072, 3.0682926829268293, 1223.4634146341464], [952.0789819388025, 719.3955282778065, 433.1255107151695, 109.18487733176832, 98.27678099904715, 225.8090231862058, 365.99110519101464, 362.5412278185749, 494.10496937424494, 866.6448750599255, 646.9607987106157, 201.87443200542697, 1223.7189741473512], [750.4169923480897, 225.3877302635713, 1344.80125548778, 972.8260249275633, 69.77586356520808, 466.986086381404, 585.8977164577973, 1313.9310651543983, 234.39400205521008, 651.8931149812695, 1552.7482535002084, 1016.8532778731278, 1100.1851295051085], [1566.8066496799804, 353.20304205755855, 91.51051128169527, 1421.1539786891865, 342.20250285625957, 1151.5153994435896, 1431.3138966056172, 1370.7354117152795, 340.8313614725255, 1652.6831875215025, 648.3807535002862, 954.6177959590223, 1505.0501990027528], [1581.333975008326, 1628.8314648494857, 255.42202111123513, 633.9807051357003, 864.5504069110402, 82.81828986108302, 554.2226184492681, 208.5762755133535, 1269.9791147779085, 554.1491504565201, 1103.6689654484458, 1093.208877546438, 1095.0476250465076], [421.4570159484427, 168.1354015882484, 1450.455021155625, 222.30946852564693, 91.69603603356877, 301.56563864047627, 1369.7859488506247, 365.85181882201033, 139.51814702494042, 491.9824107953617, 592.3535109939014, 781.5192732126201, 372.36081343306057], [681.7347083891731, 1529.2500812929172, 1207.4615359947443, 402.61472871026723, 1550.40769986173, 587.7596819281517, 1478.7649053240468, 646.5918548805283, 301.5729030822947, 779.1773500501735, 1577.9139535357576, 351.0452634440869, 1282.4675855371104], [262.4534207683879, 1147.205363446415, 1179.3009255480856, 1582.9821728652807, 1319.1424500002845, 933.1968612413984, 1489.990506666923, 933.4099529862094, 1296.0968522224532, 1560.3730485642036, 783.2147582639914, 556.4962257167255, 1274.6524449784856], [958.877464843089, 1319.101726062261, 1191.6861438425829, 749.2840530308273, 179.9727089713091, 269.685222519702, 863.8146952703158, 1109.2814897233127, 1644.9375409968497, 1657.5169121817996, 255.94716116370842, 813.8898698498431, 455.64467036740535], [67.19813554690242, 313.05421186935956, 1260.896144706017, 133.28092412459137, 65.39471013735515, 26.145097018530358, 69.35278914753813, 1406.510813268447, 914.8277973362796, 945.1233631193763, 1116.2847050587138, 266.2511197868815, 245.74300852863223], [656.7103974869478, 1115.2567451275872, 398.1749494724216, 175.243463230296, 1102.836196751672, 360.1223357842429, 1546.4309348804684, 449.2113280558553, 565.194570327917, 680.8261371696116, 1505.101918004243, 337.5437708372377, 79.47995788279917], [634.5048541626269, 132.0776522694892, 661.6028468402553, 6.340359272282935, 289.2029063851389, 704.9898677668363, 89.35897220671349, 236.60397739525607, 1433.3908069845759, 1630.4819719178959, 1652.9110772616232, 192.09229988073417, 102.48717771186261], [13.005833333333335, 2.3250000000000006, 2.4527777777777775, 20.627777777777776, 97.16666666666667, 2.19138888888889, 1.9422222222222223, 0.3902777777777778, 1.4144444444444444, 4.945833333333332, 0.9650000000000001, 2.5930555555555554, 745.0277777777778], [1401.1524092977609, 1600.643136984655, 163.99505669997185, 1647.7595103876065, 1265.4032528018104, 325.9237161518004, 775.4873342151299, 1244.6118982866585, 1116.9366932135279, 765.4460857279731, 459.40978971512766, 1359.3566938460842, 1091.737731553898], [1257.249855849285, 544.9381135011945, 1578.8614986054092, 627.774880908374, 967.6968045909349, 1109.43242360328, 1133.4624329944388, 220.53378153640145, 440.5360579745256, 1026.9811431703752, 689.4563690050942, 523.7832108764566, 1397.5088323498426], [484.5651606162816, 1323.032881601981, 304.2765904702681, 949.9047230744887, 481.4883871036469, 1128.5913873471654, 1187.5756999165278, 1175.25285799514, 1146.6315917053373, 454.08636270867555, 1240.9929057807121, 626.5915040721507, 1400.4627311350896], [885.2556449238415, 519.4115175331252, 916.9796256152405, 63.43731647480213, 300.7588058481625, 167.3948668754809, 485.9292714641686, 511.4591815852606, 101.50845850776307, 247.756747570175, 483.9131786729483, 413.53480817334014, 765.5759595526295], [12.742205882352936, 2.4693382352941176, 2.3463970588235283, 20.34779411764706, 98.17647058823529, 2.1196323529411765, 1.7197058823529408, 0.3850000000000002, 1.492279411764706, 4.822941169117648, 0.9207794117647057, 2.4644117647058827, 600.8823529411765]]\n",
            "con un valor en la funcion objetivo de 0.2766172085163088\n",
            "La peor solucion fue [0.6337931772608272, 0.8037252412785985, 0.4751543498859583, 0.5700973978067168, 0.8776550008125167, 0.021554502915830165, 0.7673767021061916, 0.10441688954895945, 0.1723646748452633, 0.8835901414871193, 0.6420063652338144, 0.2808117013446081, 0.037451925083598625, 0.4734244087636662, 0.0405762183342675, 0.12105649506617766, 0.2837079044669476, 0.05733709265436504, 0.358023034338688, 0.21778906793794006, [12.95923076923077, 2.2080769230769235, 2.393076923076923, 18.815384615384616, 98.42307692307692, 2.276923076923077, 2.0115384615384615, 0.3838461538461538, 1.631153846153846, 4.950769230769231, 0.9903846153846156, 2.616923076923077, 738.5], [12.988461538461536, 2.29, 2.4400000000000004, 20.392307692307693, 98.03846153846153, 2.2830769230769223, 2.2046153846153844, 0.3646153846153847, 1.6126923076923068, 5.1303846153846155, 0.9603846153846155, 2.6311538461538455, 735.6923076923077], [1282.8671296817038, 449.7142520201704, 897.9202085665655, 860.9993161443399, 1462.98759782681, 522.3609532463885, 188.56760949550338, 741.7639185123888, 629.2832529295367, 702.7389822967239, 696.767996252561, 646.8429728116422, 1546.5015571055321], [12.915999999999997, 2.3392, 2.3116, 20.076, 98.24, 2.395200000000001, 2.0747999999999998, 0.34679999999999994, 1.5016000000000003, 4.84279996, 1.016, 2.6788, 756.92], [13.024800000000003, 2.432, 2.4176000000000006, 19.724, 103.56, 2.3444, 2.0356000000000005, 0.35600000000000004, 1.6584, 5.1852, 0.9464000000000001, 2.6511999999999993, 777.4], [607.0164143057983, 980.6781223871008, 1255.6013583346617, 662.6705565779536, 1508.882488662505, 654.4982983670692, 1023.1523186107581, 1192.6788419082022, 594.9987538083807, 1223.9503475047381, 1126.2673094457602, 1528.552838823688, 1043.0724497406545], [12.976, 2.3264, 2.3491999999999997, 19.36, 102.2, 2.3328, 1.9351999999999998, 0.3568, 1.5907999999999995, 5.081600000000002, 0.9196, 2.4908, 740.6], [1062.8436855825196, 696.607680991132, 119.08684137697554, 745.4038303336416, 676.8470071504919, 1455.831729362468, 1236.710923994948, 949.4711878909056, 1021.6829739631448, 355.9880655505119, 18.3799689600105, 185.30284791116927, 846.6728754171497], [906.1023261879986, 1573.5065662611132, 1396.1882541328014, 739.3217869983586, 129.76253062956815, 1070.5546492000915, 1626.1762429349988, 1553.3405403815595, 605.9519415561201, 1048.9080818850157, 239.0554285494374, 270.7765177630519, 579.3886155889602], [13.1448, 2.45, 2.2348, 18.896, 96.04, 2.1607999999999996, 1.8580000000000003, 0.35840000000000005, 1.5319999999999996, 4.9952000000000005, 0.9383999999999998, 2.4984, 716.8], [12.947999999999997, 2.3408, 2.4128000000000003, 19.348000000000003, 100.72, 2.2536, 2.0376000000000003, 0.3688, 1.5792, 5.1987999999999985, 0.92624, 2.6611999999999996, 750.4], [1030.82640688526, 33.331625186591154, 160.21277498578925, 367.58255607471744, 1085.2523006577785, 9.98319983688017, 635.2837169078132, 1527.2814415029893, 1381.1898388537918, 1001.3163442577785, 1209.0116647682153, 568.6855383906252, 713.3557086188661], [1549.9673983250152, 61.31017457091239, 643.2479308383093, 1616.4302661646107, 43.29323910639181, 299.197801854237, 444.87439691695806, 1408.8070617219919, 954.464878728389, 45.08428096853854, 285.56145737772454, 1139.3168601673333, 749.5196020384903], [942.4151706076289, 724.5562635270387, 665.2220678908432, 339.36381919644015, 149.04378352043932, 1394.3249582250135, 136.8701672513195, 1617.9447365881738, 768.2034633932088, 1089.8841712229762, 48.01486067098117, 1021.6481141152258, 410.8439672196366], [1652.6703334336732, 656.4260901575626, 1492.135057822247, 1558.2158006059155, 154.43407104038073, 512.7875774048338, 1527.134652527559, 1219.2115405165941, 413.7265878680788, 782.621539702881, 1547.545322977737, 485.0046609063863, 1509.7035085262394], [829.7254198056057, 1013.008943570186, 355.8510379207896, 107.59330387432513, 1284.383865799676, 696.2316150289556, 245.57139626404415, 1660.6067034222278, 1236.1244300638157, 1470.4836257390702, 222.4489427134404, 1126.2258023740333, 854.6144748059218], [293.9076052913542, 1575.1569580365476, 249.60032088013455, 123.84314208410758, 785.3344211376403, 1151.5083440983797, 1139.7789800797652, 1563.3501660037061, 1352.917535076443, 1592.500484874365, 16.027895765623168, 1005.2654948137349, 1513.098341656568], [1473.8531712065414, 540.9367941295244, 166.34611520461962, 1128.7973692220557, 350.77200082702933, 1124.2266500914218, 1557.8588762102434, 467.54523124635267, 1134.4401893505928, 516.808058324439, 1566.0585843800206, 386.46357005633627, 1106.4447488202784], [1655.7481958067108, 1638.2813099468522, 587.3201529558826, 731.5182741711363, 118.55086016000219, 1496.5406821419685, 652.9155994680102, 1379.8299273558362, 812.7623286773861, 1213.53761186102, 1551.7304622951026, 1325.4177960916816, 447.32040627906713], [316.0649778724549, 1346.7721802094636, 1417.7278964851207, 610.8183178868633, 496.10909841242926, 1126.8565402445224, 1257.2664209916784, 766.6054555302177, 1511.1658624274505, 305.93254489379365, 1246.5361635884803, 1370.4031924556884, 818.3464451381246]]\n",
            "con un valor en la funcion objetivo de 2.1854860209909206\n",
            "En promedio se obtiene un valor en F(x) de 0.6821842942469403\n",
            "Se tiene una desviacion estandar de 0.42502838661600656\n",
            "Las soluciones tienen en promedio 2.933333333333333 grupos\n"
          ]
        }
      ]
    },
    {
      "cell_type": "markdown",
      "source": [
        "### con diferentes epsilon"
      ],
      "metadata": {
        "id": "hSy__5e_1GA0"
      }
    },
    {
      "cell_type": "markdown",
      "source": [
        "0.1"
      ],
      "metadata": {
        "id": "JU1NyKWz_ZXy"
      }
    },
    {
      "cell_type": "code",
      "source": [
        "mej_iris = ACDE(cr_max=1,cr_min=0.5,k_max=20,k_min=2,pop_size=10,x_min=0.1,x_max=7.9,d = 4,\n",
        "     max_eval=10000,datos=iris,f_distancia=euclideana,aptitud=cs,M = 30,eps=0.1)"
      ],
      "metadata": {
        "colab": {
          "base_uri": "https://localhost:8080/"
        },
        "id": "B4XZaP1J_jf1",
        "outputId": "40f0be51-c893-45bb-8002-66992c3f0157"
      },
      "execution_count": null,
      "outputs": [
        {
          "output_type": "stream",
          "name": "stdout",
          "text": [
            "DEspues de 30 iteraciones, estos son los resultados:\n",
            "La mejor solucion fue [0.03535190900624274, 0.22540999261013323, 0.29327422581103485, 0.29627119759241527, 0.5852726977752174, 0.18352201039430271, 0.22523991138508473, 0.4943789338958451, 0.16269820312305813, 0.2507492055693883, 4.281896008276635, 0.34309442128813283, 0.12729708201578604, 0.26538451117269646, 0.13857132536247496, 0.35027306211306364, 0.15366487123126019, 0.40913542799436403, 0.2676205197939544, 0.23154394779190773, [5.467751670287348, 3.1828843132508773, 3.518307934014684, 1.1861927099295562], [7.358724531886491, 0.652064075250504, 2.135341467057674, 7.505983538720161], [6.095822091070751, 3.755718528306334, 7.445821221037168, 0.8307156834297224], [5.088992242522223, 7.178779564283835, 2.3617303220555437, 2.5733518310417267], [5.005999999999999, 3.4180000000000006, 1.464, 0.2439999999999999], [5.966516716330624, 3.154853335513092, 4.0397555718063405, 1.4084902236293244], [5.871264542248412, 6.529747549253519, 3.9581025618045715, 4.847371886767025], [6.083934933120895, 4.990095165706345, 3.4293138820843496, 7.035653103634366], [6.688366847991215, 5.041384049183264, 3.6688267479092134, 4.047354054858637], [6.550704225352111, 2.9647887323943665, 5.287323943661974, 1.8577464788732396], [7.666666666666667, 2.7999999999999994, 6.733333333333333, 2.1333333333333333], [5.4095221231358535, 1.937852271442799, 2.75996426586876, 3.620653735578861], [3.150909016695114, 5.828099690819544, 0.6753011589239004, 1.17384387143147], [4.937745209718162, 4.522229711910786, 5.509340986302954, 5.238996266690759], [4.16371960766948, 4.98921055669537, 2.4514293801111395, 7.730421254896634], [7.122220241900692, 2.9155825055448785, 5.960789971751962, 1.9838284471291245], [6.135648958476677, 3.007129791695334, 3.9657573315157557, 1.186865448603275], [6.071515695692596, 3.0474331141902007, 3.932203536630161, 1.2410543112161356], [0.7065253541485295, 2.4820613280149124, 2.043727683728198, 1.282382494109246], [5.611592047241455, 5.062298916768449, 2.607405547792393, 6.227723213626938]]\n",
            "con un valor en la funcion objetivo de 0.16023396424886113\n",
            "La peor solucion fue [0.20494355230246208, 0.34524948906301034, 0.27455931941015743, 0.5772684000471523, 0.15964152083828909, 0.2589047643844397, 0.21538997003404425, 0.1274606880219491, 0.30866325252554727, 0.6832299730458395, 0.39344068447956315, 0.33007127248871426, 0.12607297790306038, 0.4819146585887504, 1.1493564371024494, 0.3852863564683529, 1.0181370863375605, 0.3126382376270243, 0.35442291098759354, 0.0295735615318653, [5.66803584851059, 2.1333449548676495, 5.784549219545966, 1.321124360198843], [3.5647448183576973, 2.0022442559020166, 4.669901326087455, 4.1746862553308395], [1.6221247868366753, 1.714206254272319, 1.9168115104639112, 1.7809478222040385], [7.340000000000002, 3.1466666666666665, 6.193333333333333, 2.1133333333333337], [3.348891751972135, 1.4109579511413373, 5.830402580392165, 0.45861958302936], [5.927272727272725, 2.7848484848484847, 4.3121212121212125, 1.3363636363636364], [6.84067400486162, 7.615465062627172, 6.696494790409021, 5.400659583109985], [4.818181818181818, 3.2212121212121207, 1.436363636363636, 0.2272727272727273], [5.7058823529411775, 2.8941176470588235, 4.488235294117648, 1.5], [6.3509433962264135, 2.9471698113207543, 5.047169811320755, 1.811320754716981], [2.3629651989837894, 1.1580959471103622, 7.18333052303088, 1.3364293793781516], [6.999296107429113, 3.4060874848903095, 5.530543671588804, 1.948914986378173], [4.172287174455636, 4.537543731762306, 0.278643325551145, 0.3223325547465403], [5.1172561842879976, 4.707515016479115, 1.5019972892755855, 0.5202889347128969], [5.005999999999999, 3.4180000000000006, 1.464, 0.2439999999999999], [5.833333333333333, 2.7999999999999994, 3.8333333333333335, 1.2666666666666666], [5.579999999999998, 2.6333333333333337, 3.986666666666667, 1.2333333333333334], [5.432941030122828, 2.649432845953102, 5.745911182767257, 0.9654889426964701], [0.195393754290962, 4.811913951397051, 1.8089592695433816, 3.387362542656395], [3.644127251079589, 5.007162647812876, 2.28474603772019, 1.2088611084587664]]\n",
            "con un valor en la funcion objetivo de 0.8300258714148447\n",
            "En promedio se obtiene un valor en F(x) de 0.4080528449199247\n",
            "Se tiene una desviacion estandar de 0.1669678495121887\n",
            "Las soluciones tienen en promedio 2.2 grupos\n"
          ]
        }
      ]
    },
    {
      "cell_type": "code",
      "source": [
        "mej_glass= ACDE(cr_max=1,cr_min=0.5,k_max=20,k_min=2,pop_size=10,x_min=0.0,x_max=75.41,d = 10,\n",
        "     max_eval=10000,datos=glass,f_distancia=euclideana,aptitud=cs,M = 30,eps=0.1)"
      ],
      "metadata": {
        "id": "ZseMR8rZo1se",
        "colab": {
          "base_uri": "https://localhost:8080/"
        },
        "outputId": "c1d3af9d-74fb-47ee-e42f-da394c668f09"
      },
      "execution_count": null,
      "outputs": [
        {
          "output_type": "stream",
          "name": "stdout",
          "text": [
            "DEspues de 30 iteraciones, estos son los resultados:\n",
            "La mejor solucion fue [0.47450356054846193, 0.3880144294895711, 0.04555696792442199, 0.05744815740891571, 0.36700358446298265, 0.3291394704300949, 0.3714537154704498, 0.37273053931773914, 0.07716716576541938, 0.06008535640365009, 0.34413970271249683, 1.179581004803871, 0.3848559709001499, 0.279357276543132, 0.38108437036180315, 0.21219362115424883, 0.44014403528181756, 0.055763277307733894, 0.22797390290925856, 9.233109059297616, [72.35587915799685, 72.06825877122334, 23.840960211287992, 57.05675411760465, 61.048662107200954, 75.32866061065067, 71.20679068619272, 45.00702187439121, 32.928557999365594, 58.09078393295098], [32.73406570521309, 13.881707822841056, 28.22477570151161, 66.69402003782005, 35.985122621753355, 29.83091357112503, 64.2279531008839, 47.828628889723895, 47.648456164201036, 1.257998658394639], [59.41743279188534, 67.70681436753252, 64.21020493334393, 20.17365668540024, 7.187005429297713, 32.182792389107874, 49.221893324991164, 13.547572431622658, 36.09440359024349, 67.76266920647495], [47.779641632645024, 14.504276666629783, 71.41868158789916, 68.05035675703468, 63.23702449240334, 27.223229911768087, 40.19316516077913, 66.30050316137503, 45.27916636846381, 33.890560059582015], [25.899538181344333, 5.462088252227852, 2.187142654577971, 74.93527101776466, 34.74079960731366, 67.1154624655874, 43.506476236050744, 9.718047175348167, 46.61709926913195, 9.366472171059788], [11.181831430642266, 19.999292402385855, 34.187308429671944, 32.77812790734811, 46.300797578919344, 18.10992969663236, 31.353083733497265, 31.602876916108414, 1.3091908985878575, 13.308582916862306], [17.77859697899367, 1.3690007144498162, 2.692537929371338, 13.465230423918367, 50.823813319875875, 33.67623594913921, 74.46141559569456, 47.94865382862483, 26.67861500345518, 45.081562993397895], [2.328088407316176, 68.23889748942491, 47.88991840094639, 22.323804389527634, 20.190765861454057, 16.324517337938445, 42.196335954036954, 9.43956078443518, 70.24999036696195, 73.73942337840167], [47.08418737039943, 51.10196727979123, 8.374507540226768, 72.08178124926934, 53.896951749778154, 62.008163622509805, 17.834319332835356, 40.189959280318284, 72.43825628523123, 69.40928363729012], [38.67014916537086, 28.59898039415832, 5.63370503465079, 58.82085176981461, 71.90125692397781, 51.644034387602424, 73.50116088642889, 50.5170872672456, 6.342606450608775, 5.500055649872044], [17.146751956599253, 20.91759021393492, 27.434478885761177, 50.996965375720954, 60.51806425701811, 51.10998488385399, 38.26429348393597, 23.80545312576658, 38.037377590927385, 68.64334739867255], [1.5181289719626168, 13.423457943925236, 2.7160747663551397, 1.455607476635514, 72.6911214953271, 0.4786915887850467, 8.904392523364484, 0.15682242990654208, 0.06214953271028037, 2.7663551401869158], [1.5177373007505615, 13.802430404590536, 2.923117619116961, 1.5503262317487274, 72.43345765643232, 0.416334869301555, 8.511846941106874, 0.17162346882066362, 0.0834185886433166, 2.843433181349609], [1.5184914814814816, 13.51888888888889, 2.639259259259259, 1.385555555555555, 72.59481481481481, 0.3725925925925926, 9.040740740740741, 0.2348148148148148, 0.03333333333333334, 2.8518518518518516], [13.143199612306855, 52.1184971560959, 5.181857358010874, 12.798588523220022, 23.07674395889855, 27.89786033637906, 70.52157889426304, 64.16235945994995, 69.24981976207789, 47.29543435371471], [15.317728506779794, 73.46815049324547, 63.16699237899232, 0.5911725503061547, 38.1898444808631, 37.45425393345134, 42.00474686365854, 13.011704136289671, 63.930549807043924, 41.34077125745813], [31.073361192501558, 34.25607576186695, 2.871555905539722, 16.657312074437513, 22.09466822061, 26.31307234073464, 7.997465245040432, 34.61710338440834, 12.455469504409749, 37.166168043774384], [31.91498363588662, 21.981385396591428, 7.157136529134412, 46.3832906018107, 63.5253108080782, 69.55798972161611, 55.82668801208633, 8.199702567650114, 65.45741114700844, 11.764280161270836], [14.378518762535645, 48.430642671494, 1.7607259987640589, 39.244873726775026, 2.908709906257286, 35.1165260224312, 41.00749522823617, 65.64006909441078, 9.971640376022638, 30.616598214786382], [1.5186018691588785, 13.39224299065421, 2.652990654205608, 1.4342056074766358, 72.6107476635514, 0.5154205607476635, 9.009532710280375, 0.19327102803738316, 0.05186915887850468, 2.794392523364486]]\n",
            "con un valor en la funcion objetivo de 0.10871292625689548\n",
            "La peor solucion fue [0.5000240167578499, 0.7770856506665402, 0.39391817260048767, 0.3154274408598742, 0.9660188229405627, 0.9396302982045299, 0.04430157673315793, 0.25231910387540835, 0.256233237380719, 0.6782872462099634, 0.12917673490965798, 0.003256466095743371, 0.229712098674423, 0.8865134574108735, 0.8633586703256133, 0.01766185512909324, 0.7374678829402842, 0.5861034588667628, 0.039051321189936594, 0.5435007645001273, [1.5182799999999994, 13.416363636363638, 2.6500000000000004, 1.4595454545454545, 72.71363636363635, 0.3581818181818182, 9.076363636363636, 0.14045454545454544, 0.06636363636363636, 2.772727272727273], [1.518692272727273, 13.37, 2.441363636363636, 1.3813636363636361, 72.65863636363638, 0.7154545454545456, 9.105909090909092, 0.1459090909090909, 0.056363636363636366, 2.772727272727273], [40.97599437438926, 59.84132523464689, 10.891521273281096, 8.556833744979185, 47.601460049950624, 60.004493351872895, 11.843873746048027, 7.51418835563679, 53.41948250078094, 41.3265980771303], [39.84999561555026, 20.495733211571338, 71.44280415664693, 0.3588506775537923, 63.68491497894362, 55.238994862325654, 31.845961846812756, 19.165920623855584, 52.08961302765958, 59.831511822939945], [1.5177627272727272, 13.408636363636363, 2.5440909090909085, 1.483181818181818, 72.78863636363636, 0.629090909090909, 8.848181818181818, 0.12181818181818183, 0.07590909090909091, 2.772727272727273], [1.518256363636364, 13.580000000000002, 2.688636363636363, 1.4713636363636362, 72.49999999999999, 0.4454545454545455, 8.816818181818181, 0.3259090909090909, 0.031363636363636364, 2.8636363636363638], [22.588834953443417, 70.54612103571988, 5.943350557265049, 36.88023827549037, 9.3232427109501, 51.166266263017604, 71.35693153356904, 45.49776823419069, 16.763506603518774, 61.63751748524244], [32.086711448375375, 14.30393575467029, 37.89471372840944, 4.659005445875036, 66.48077743150074, 9.894242229628333, 34.37224082777169, 7.537523159721906, 72.17501575640647, 8.423236941641775], [68.18920156965874, 54.54419566413664, 48.12025485214062, 45.82292440869443, 2.358123183373102, 36.68920380042538, 68.57282611228571, 22.496546103143423, 18.083349366646914, 31.40023075059034], [1.517792857142857, 13.482380952380952, 2.801428571428571, 1.4023809523809523, 72.87380952380951, 0.48999999999999994, 8.642380952380952, 0.1180952380952381, 0.06095238095238095, 2.6666666666666665], [3.9240720295386295, 32.94362378895413, 5.654986100902707, 28.952894560804072, 66.37370633980684, 43.188900764653674, 8.332703973515004, 42.66993815376061, 48.01627321891189, 75.20341759948376], [31.262649911050847, 67.25019589910447, 8.768995079741892, 29.369394357665566, 21.580964463443692, 46.5497655163855, 71.41743608361695, 23.275491025568297, 45.6324922384832, 13.097513849726713], [50.978325163248144, 21.32818203950285, 4.325630385019859, 44.5651806736109, 53.64258731832984, 20.895369316507004, 13.478521394531722, 71.48224582125768, 29.065409623986703, 49.85230024328106], [1.5179504761904763, 13.115238095238093, 2.782857142857143, 1.4947619047619047, 72.76619047619047, 0.5385714285714286, 8.921428571428573, 0.1595238095238095, 0.09142857142857144, 2.7142857142857144], [1.518317142857143, 13.197142857142856, 2.9147619047619044, 1.4409523809523808, 72.53904761904764, 0.4957142857142857, 8.914285714285713, 0.3371428571428571, 0.06190476190476191, 2.8095238095238093], [21.979347292968427, 57.7920155926104, 34.1690288408415, 9.545402660059485, 71.53323882192385, 17.398987459796775, 4.862083121264067, 39.37004284384303, 63.37049904846904, 46.81443419643161], [1.5197766666666668, 13.363809523809524, 2.770952380952381, 1.3176190476190475, 72.52999999999999, 0.4547619047619048, 9.199047619047619, 0.16857142857142857, 0.04857142857142857, 2.8095238095238093], [1.518502380952381, 13.613809523809525, 2.681428571428572, 1.4904761904761903, 72.5347619047619, 0.41904761904761906, 9.035238095238094, 0.06904761904761905, 0.04476190476190477, 2.8095238095238093], [74.47132360384423, 25.324324173594547, 37.46058954646154, 64.59667359612398, 48.445993152766825, 13.087046477996433, 71.8567441228844, 27.440852310770342, 59.214371487612766, 1.3224722069780672], [1.518345714285714, 13.524285714285714, 2.5895238095238096, 1.5066666666666666, 72.60190476190476, 0.41666666666666674, 9.009047619047617, 0.16238095238095238, 0.03238095238095237, 2.8095238095238093]]\n",
            "con un valor en la funcion objetivo de 0.6762470984893268\n",
            "En promedio se obtiene un valor en F(x) de 0.3823329331413499\n",
            "Se tiene una desviacion estandar de 0.1751634763806202\n",
            "Las soluciones tienen en promedio 5.333333333333333 grupos\n"
          ]
        }
      ]
    },
    {
      "cell_type": "markdown",
      "source": [
        "0.001"
      ],
      "metadata": {
        "id": "tsH2kJZSkFmx"
      }
    },
    {
      "cell_type": "code",
      "source": [
        "mej_iris = ACDE(cr_max=1,cr_min=0.5,k_max=20,k_min=2,pop_size=10,x_min=0.1,x_max=7.9,d = 4,\n",
        "     max_eval=10000,datos=iris,f_distancia=euclideana,aptitud=cs,M = 30,eps=0.001)"
      ],
      "metadata": {
        "colab": {
          "base_uri": "https://localhost:8080/"
        },
        "id": "XmR7Ey61kWkx",
        "outputId": "938d03a5-c996-4f3e-ad9d-a8fec55034d6"
      },
      "execution_count": null,
      "outputs": [
        {
          "output_type": "stream",
          "name": "stdout",
          "text": [
            "DEspues de 30 iteraciones, estos son los resultados:\n",
            "La mejor solucion fue [0.46457025646882344, 0.9252394187467677, 0.34308896545388873, 0.39742036697056093, 0.006029021936098999, 0.3185445834362256, 0.07065042515375686, 0.038455563756702005, 0.27716520984006776, 0.22754967897149903, 0.2101911349283837, 0.45941345685530666, 0.5193298769043362, 0.10134909039054285, 0.4820692911837917, 0.4101313047981866, 0.12041956091622705, 0.05910675490415729, 0.33044562556736723, 0.4995586735201986, [5.4947777586499615, 3.1361443921171457, 3.4544066176044765, 1.1766156282533184], [5.005999999999999, 3.4180000000000006, 1.464, 0.2439999999999999], [6.705997615292801, 7.6133888542225545, 4.335295393482391, 7.554908972638874], [3.5281983835903246, 2.693254823129335, 3.943764802825633, 3.153212131974449], [4.9568830298693545, 2.2837682140258386, 1.658051828742148, 4.756826231141109], [6.412253725286111, 4.035135077660666, 1.1379182142845614, 3.400061695118786], [6.2978104414943665, 1.3816915946229784, 4.286360820456243, 1.917823743268901], [6.0771161037067625, 3.423154455525199, 3.8213636608631747, 1.3424770839996274], [5.733643527285435, 3.1839586755775535, 3.4923269413635936, 1.2413165859218407], [0.15323415309712665, 1.5716894775805823, 4.585103067527022, 3.885278737082149], [2.1572214893098316, 0.1347757179575888, 6.787031389922985, 1.8241002662884223], [7.642857142857143, 3.228571428571428, 6.5, 2.1999999999999997], [7.800000000000001, 3.8, 6.550000000000001, 2.1], [4.97296742905644, 0.7842925574176021, 4.519873787522274, 5.59719985720581], [4.140662503083079, 3.654133533760487, 3.8624729721234368, 1.460667057854477], [6.235714285714285, 2.8928571428571423, 4.928571428571429, 1.721428571428571], [3.549238255751699, 0.14247184481720332, 6.116239837851457, 2.6252866175732166], [3.850638716197057, 4.6127760007388074, 2.692631567622562, 3.017505289399551], [4.482580855689267, 4.553929603319599, 7.444772257286265, 1.1113411230812422], [5.294454673570505, 1.1921400123968913, 1.3505540809513041, 5.746833169562463]]\n",
            "con un valor en la funcion objetivo de 0.17665598820410774\n",
            "La peor solucion fue [0.43449183307357464, 0.3342903240147873, 0.14131702781722744, 0.5188228084806199, 0.9212042913735282, 0.325420732067071, 0.050677994338621746, 0.3153584954489491, 1.4744906743511041, 0.1723320309772866, 0.24287960556237193, 0.34626826252012444, 0.365497569727095, 0.28041609369235543, 0.9238356662890559, 0.27064534796362516, 0.35036815094680124, 5.359850283924215, 0.24106641829180975, 0.4087150337863422, [2.1214316456084994, 0.8389169088566467, 6.197612558764469, 4.552246152813285], [7.2, 3.1, 5.9, 1.7000000000000002], [2.339518989074113, 2.051424808342634, 7.177338608338131, 3.5253724605539656], [7.423076923076924, 3.130769230769231, 6.269230769230769, 2.0692307692307694], [4.931818181818182, 3.3295454545454546, 1.468181818181818, 0.24090909090909093], [3.9976633318346217, 4.108351133971402, 1.187115120891789, 5.228421095910431], [7.350578873010727, 7.586746967292294, 4.220959480588782, 7.8922282938258315], [6.495334352335187, 5.043127695951598, 1.8929757577220776, 6.604181807992956], [6.374999999999998, 2.9557692307692305, 5.132692307692306, 1.8615384615384611], [7.019308960155029, 7.423436733705803, 0.14722796413427827, 3.2497540599258623], [3.9709831417720274, 7.041092683654756, 2.9600489762441047, 7.223517942886881], [6.562276282849192, 6.731990014334269, 4.607661219100757, 1.1030644281363624], [5.523973581927475, 6.27041396228626, 4.741307294735175, 5.556052317745042], [5.849972770121357, 2.9516956267530996, 3.554960020285928, 0.9558214486018003], [5.662857142857142, 2.651428571428571, 4.062857142857143, 1.2542857142857142], [3.016204542705616, 6.242837116336386, 0.7227021166363418, 5.226927318987712], [6.87605378597488, 1.6969412066193936, 2.049308445190658, 3.523465919898955], [5.55, 4.066666666666667, 1.4333333333333333, 0.26666666666666666], [5.789899521217784, 5.993918476980996, 4.766258546204197, 3.5946549915765726], [3.981934724381188, 4.633804922176229, 6.107695001803644, 0.7222543261333714]]\n",
            "con un valor en la funcion objetivo de 0.7626750286218608\n",
            "En promedio se obtiene un valor en F(x) de 0.4206927904315981\n",
            "Se tiene una desviacion estandar de 0.16873879402177205\n",
            "Las soluciones tienen en promedio 2.3666666666666667 grupos\n"
          ]
        }
      ]
    },
    {
      "cell_type": "code",
      "source": [
        "mej_glass= ACDE(cr_max=1,cr_min=0.5,k_max=20,k_min=2,pop_size=10,x_min=0.0,x_max=75.41,d = 10,\n",
        "     max_eval=10000,datos=glass,f_distancia=euclideana,aptitud=cs,M = 30,eps=0.001)"
      ],
      "metadata": {
        "colab": {
          "base_uri": "https://localhost:8080/"
        },
        "id": "kFalFJ58kYYN",
        "outputId": "56c558e8-d781-4902-a346-e63ef477a5d9"
      },
      "execution_count": null,
      "outputs": [
        {
          "output_type": "stream",
          "name": "stdout",
          "text": [
            "DEspues de 30 iteraciones, estos son los resultados:\n",
            "La mejor solucion fue [0.19467244665671019, 0.44540814245294363, 0.22530627815313786, 0.2903770297256957, 0.3832022229535853, 0.32605979512223704, 0.4406536441044877, 0.034180976396959606, 0.35784514845531556, 0.48141307931303495, 0.053573331314916706, 0.21027203473475614, 0.09460515637142752, 0.4836305371671236, 0.13457284160524985, 0.3489605640840199, 0.31433409264215406, 1.3371882304461502, 0.16522763463053103, 29.53549920999822, [61.58419771851992, 72.70629914574754, 3.432761877143224, 22.252092284374765, 25.486329204611202, 65.07537207998173, 36.03923986208191, 23.73138099942003, 20.738353110785372, 15.330160599579038], [52.80974391027315, 2.579095119364222, 69.0984754018172, 16.390728746185978, 49.76876827324543, 25.699422202508714, 18.27303625480344, 26.567856241053125, 69.72259794803736, 2.87218560115615], [57.63997905090902, 48.072839240082274, 30.92771621647818, 29.95710896243974, 51.800554235184926, 12.430692255433485, 8.156949469824385, 39.61608898409437, 74.81292076621389, 17.06929722321561], [62.58520710734847, 10.337548381948464, 64.36454780464912, 38.27477696160532, 60.630896475266354, 34.78865465249868, 58.91906441772472, 6.094921048836478, 56.55682658314148, 34.03928174542404], [28.03670370945912, 74.37442990045352, 71.44493287356012, 4.788007572633664, 61.871218084927484, 64.81169236968567, 57.11276239487793, 26.18446051374778, 32.965982710144715, 15.694828250293654], [62.65873592453119, 62.41355545386221, 10.168613773633309, 75.15385750806404, 19.800872920290747, 34.487872695182645, 63.860153802050654, 12.112024912483461, 55.62543903500612, 0.8244553375470228], [1.5181289719626168, 13.423457943925236, 2.7160747663551397, 1.455607476635514, 72.6911214953271, 0.4786915887850467, 8.904392523364484, 0.15682242990654208, 0.06214953271028037, 2.7663551401869158], [19.358285947084262, 0.05616495073427017, 44.88041799689354, 75.2256409952804, 10.173723961159489, 10.38680496415148, 46.04116665127774, 11.8314267272749, 49.55625296096857, 52.91352871672418], [7.101288091936397, 59.031626288757224, 14.651251247775331, 60.4996244736664, 72.3795604556491, 15.361304548541199, 6.5766599197503055, 42.973627342649, 43.94068670784348, 72.95002034714977], [22.208783303761273, 5.062004047761473, 13.345422150130325, 9.34060359549637, 37.505821887736936, 17.305676393719445, 2.3528175128958395, 63.40119282855239, 57.62441621652967, 38.43272701256402], [0.8302560717333136, 53.34433588110692, 27.700063408327747, 47.66663927359487, 36.58801800257651, 71.39181651785411, 7.3495656167348, 21.299929026205778, 10.057802967698336, 29.90783337021532], [64.53540523617723, 5.15257178029629, 43.788040490096115, 25.387555832188788, 24.167778427204816, 57.98939153517786, 5.951993600125618, 20.114589043658967, 28.061667100347098, 35.4886681798021], [10.998790191989674, 6.212341109574899, 62.58533731065918, 29.251091653745004, 52.80152318674873, 30.040640771231406, 29.329160191934633, 52.05781927749675, 21.4905643072179, 53.52717650987282], [33.81392634069335, 31.00706389966534, 62.95847083162693, 33.491083396675265, 16.7572549180958, 18.2914735507439, 49.46592542148137, 6.842779572310249, 46.23033679716666, 25.160553056896063], [20.748261223448328, 53.96926415627243, 60.75245181424022, 56.80266240217409, 0.46299146875214015, 24.250580391929873, 46.17054573202834, 74.30759199818117, 13.69650946016718, 58.93527970074404], [12.425977596374123, 53.56519401607221, 48.437079685167106, 47.62984553693719, 41.179154674629416, 72.49728065840266, 36.6620176281095, 30.37890069449995, 61.68548357628949, 15.53647282897916], [39.86733204760621, 31.37212144053165, 28.696567439797377, 62.38510047468424, 66.0677730507945, 69.29722866327002, 40.14107995251362, 44.54537260137494, 65.42147735867006, 19.39044624609557], [1.5181289719626168, 13.423457943925236, 2.7160747663551397, 1.455607476635514, 72.6911214953271, 0.4786915887850467, 8.904392523364484, 0.15682242990654208, 0.06214953271028037, 2.7663551401869158], [22.146676867392927, 57.58830637799889, 68.255268031359, 47.823616553625676, 56.58056819519111, 29.576361401213582, 8.891618600597594, 28.934397455338168, 22.080228332657292, 71.02235306629501], [1.5186018691588785, 13.39224299065421, 2.652990654205608, 1.4342056074766358, 72.6107476635514, 0.5154205607476635, 9.009532710280375, 0.19327102803738316, 0.05186915887850468, 2.794392523364486]]\n",
            "con un valor en la funcion objetivo de 0.09954826681733346\n",
            "La peor solucion fue [0.7356988159116185, 0.6018751939127376, 0.7492207144489158, 0.035679183343044096, 0.6100538183087313, 0.7823865510920294, 0.09352127072031824, 0.012749950683881961, 0.4654394936498597, 0.53018280925668, 0.18813493981010387, 0.6801534295315199, 0.0983064721554483, 0.8512675888022283, 0.7060388635976096, 0.3182869160349975, 0.3663257477702986, 0.0818542627340687, 0.14230731551106424, 0.39795804984095384, [1.5180620833333336, 13.635833333333332, 2.824583333333333, 1.4291666666666663, 72.40583333333332, 0.69, 8.575833333333334, 0.2270833333333333, 0.05791666666666667, 2.6666666666666665], [1.5172812499999997, 13.384166666666667, 2.6266666666666665, 1.6216666666666664, 72.68833333333332, 0.7241666666666666, 8.60625, 0.17250000000000001, 0.08041666666666668, 2.75], [1.5182224999999996, 13.375416666666665, 2.5095833333333335, 1.5004166666666665, 72.73541666666667, 0.3566666666666667, 9.22125, 0.10833333333333334, 0.04750000000000001, 2.7916666666666665], [40.08777973010149, 64.16717214718794, 2.441679273796492, 37.58778315842682, 46.208325528198, 70.08690369230239, 63.40807225754898, 70.62640928597628, 62.52653194135467, 21.37820866133636], [1.5185879166666665, 13.241666666666667, 2.54, 1.3212499999999998, 72.84833333333334, 0.5058333333333332, 9.25125, 0.09291666666666666, 0.06375, 2.7916666666666665], [1.518732916666667, 13.448333333333338, 2.487083333333333, 1.3170833333333332, 72.87208333333335, 0.3820833333333334, 9.16375, 0.15791666666666668, 0.042083333333333334, 2.7916666666666665], [53.710434312849074, 16.827642825311614, 20.196534853703028, 23.70978927936351, 51.899801230129306, 47.449078673196816, 4.5271694178599295, 50.010329953715775, 18.123086228132458, 67.09921378649507], [21.258531516237575, 9.400802906018933, 37.84523637376746, 53.73426715094889, 13.373899524179606, 69.85330558286289, 43.64832727395327, 48.82950413734793, 23.08463400037991, 17.587825397940218], [24.758759492658537, 19.319598284313187, 59.21943924680239, 13.04423091519966, 11.22450943072954, 44.46158245891773, 19.60551215110224, 68.2188538037257, 63.38244653379517, 46.22326733340511], [1.5181795833333334, 13.371250000000002, 2.7275000000000005, 1.4345833333333333, 72.69666666666666, 0.44999999999999996, 8.873333333333333, 0.2554166666666667, 0.05083333333333334, 2.875], [62.5452532543581, 9.944861040504483, 16.29247350912612, 20.982245394309007, 74.55064386365896, 13.994508459124805, 30.07502085678869, 34.867462012628, 69.639746145337, 46.738135634009765], [1.5181058333333335, 13.387916666666667, 2.7583333333333333, 1.4983333333333333, 72.70916666666666, 0.5104166666666666, 8.787083333333332, 0.19458333333333333, 0.05875, 2.875], [65.24291490392748, 12.034965549826062, 55.69578581713051, 68.46621790218796, 49.79499312192115, 69.05216763864183, 73.64321531934894, 30.826153279858676, 12.989432039081175, 44.49621794839314], [1.5189573913043477, 13.343478260869563, 2.887826086956522, 1.441304347826087, 72.48695652173913, 0.4317391304347827, 8.976521739130437, 0.27217391304347827, 0.04565217391304348, 2.739130434782609], [1.5192195652173914, 13.48304347826087, 2.813043478260869, 1.44, 72.39826086956522, 0.4165217391304348, 9.166956521739127, 0.09521739130434782, 0.06608695652173914, 2.739130434782609], [37.341748763295314, 23.479713408622825, 68.1490254628339, 24.890484003959852, 67.69631398427583, 45.602724252332955, 54.53801888806965, 9.553451698674364, 38.573124209776196, 34.2239057953187], [61.15180288258203, 2.959338221857523, 31.41477161577588, 60.987096850060446, 42.37745726742524, 22.914506667058628, 34.99219193785828, 51.275801787370014, 49.11749924167998, 40.41707612006864], [66.93302571462598, 59.29766895894475, 44.44733425412602, 6.578671644077439, 49.833066305224264, 71.4054003958996, 57.64053384333069, 51.25293221594972, 15.95895668783759, 44.047389027158474], [40.503187454600685, 40.51962767751472, 19.507908067947792, 25.37382883616647, 21.64902031535851, 13.9450391860877, 32.358458479777006, 0.4889064273385529, 18.65046473404785, 52.157303588330166], [58.339599227771565, 38.6747501251222, 6.286198263469744, 66.35617373961578, 44.257949199304726, 22.27282496374069, 72.77825858778199, 5.480862553377549, 20.474913980258048, 51.33854858065771]]\n",
            "con un valor en la funcion objetivo de 0.6491647004556768\n",
            "En promedio se obtiene un valor en F(x) de 0.3386954096667968\n",
            "Se tiene una desviacion estandar de 0.1674754589596338\n",
            "Las soluciones tienen en promedio 4.766666666666667 grupos\n"
          ]
        }
      ]
    },
    {
      "cell_type": "code",
      "source": [
        "mej_wine = individuos = ACDE(cr_max=1,cr_min=0.5,k_max=20,k_min=2,pop_size=10,x_min=0.13,x_max=1680,d = 13,\n",
        "     max_eval=10000,datos=wine,f_distancia=euclideana,aptitud =DB,M = 30,eps=0.001)"
      ],
      "metadata": {
        "id": "vWbE1OuJkMi_"
      },
      "execution_count": null,
      "outputs": []
    },
    {
      "cell_type": "code",
      "source": [
        "DB??"
      ],
      "metadata": {
        "id": "UVm5Z4lHxwqc"
      },
      "execution_count": null,
      "outputs": []
    },
    {
      "cell_type": "markdown",
      "source": [
        "con distancia coseno"
      ],
      "metadata": {
        "id": "6MzzNq7yiNbZ"
      }
    },
    {
      "cell_type": "code",
      "source": [
        ""
      ],
      "metadata": {
        "id": "UJxVZ-eCkOgu"
      },
      "execution_count": null,
      "outputs": []
    },
    {
      "cell_type": "markdown",
      "source": [
        "## Indice de clustering: DB Index"
      ],
      "metadata": {
        "id": "dU-LAs8vwY0o"
      }
    },
    {
      "cell_type": "code",
      "source": [
        "ACDE(cr_max=1,cr_min=0.5,k_max=20,k_min=2,pop_size=10,x_min=0.1,x_max=7.9,d = 4,\n",
        "     max_eval=10000,datos=iris,f_distancia=euclideana,aptitud=cs,M = 30,eps=0.01)"
      ],
      "metadata": {
        "id": "-M_pqEuwkCEL"
      },
      "execution_count": null,
      "outputs": []
    },
    {
      "cell_type": "code",
      "metadata": {
        "id": "-2pKq0fphB-l"
      },
      "source": [
        "from sklearn.cluster import KMeans"
      ],
      "execution_count": null,
      "outputs": []
    },
    {
      "cell_type": "code",
      "metadata": {
        "colab": {
          "base_uri": "https://localhost:8080/"
        },
        "id": "YTNgb69JWuHq",
        "outputId": "11cd9bf8-6786-4582-ec8d-a740fc448c1e"
      },
      "source": [
        "puntuaciones = []\n",
        "for i in range(50):\n",
        "  indK = individuo_vacio()\n",
        "  kmeans = KMeans(n_clusters=3).fit(datos)\n",
        "  indK.cromosoma = [1,1,1]\n",
        "  for c in kmeans.cluster_centers_:\n",
        "    indK.cromosoma.append(list(c))\n",
        "  indK.particion = kmeans.labels_\n",
        "  indK.activos = [0,1,2]\n",
        "  puntuaciones.append(cs(indK,datos,3,euclideana))\n",
        "np.mean(puntuaciones)"
      ],
      "execution_count": null,
      "outputs": [
        {
          "output_type": "execute_result",
          "data": {
            "text/plain": [
              "0.8186721431781523"
            ]
          },
          "metadata": {},
          "execution_count": 98
        }
      ]
    },
    {
      "cell_type": "code",
      "metadata": {
        "colab": {
          "base_uri": "https://localhost:8080/"
        },
        "id": "UuIBJI3Vg90U",
        "outputId": "1d46b393-fa29-4f22-c62b-9101cd75b3c4"
      },
      "source": [
        "puntuaciones1 = []\n",
        "for i in range(50):\n",
        "  indK = individuo_vacio()\n",
        "  kmeans = KMeans(n_clusters=9).fit(datos)\n",
        "  indK.cromosoma = [1,1,1]\n",
        "  for c in kmeans.cluster_centers_:\n",
        "    indK.cromosoma.append(list(c))\n",
        "  indK.particion = kmeans.labels_\n",
        "  indK.activos = [0,1,2]\n",
        "  puntuaciones1.append(cs(indK,datos,9,euclideana))\n",
        "np.mean(puntuaciones1)"
      ],
      "execution_count": null,
      "outputs": [
        {
          "output_type": "execute_result",
          "data": {
            "text/plain": [
              "0.5671608002136336"
            ]
          },
          "metadata": {},
          "execution_count": 104
        }
      ]
    },
    {
      "cell_type": "code",
      "metadata": {
        "id": "RCNc8OvLq6xv"
      },
      "source": [
        ""
      ],
      "execution_count": null,
      "outputs": []
    },
    {
      "cell_type": "code",
      "metadata": {
        "id": "nldTIupQMUtW"
      },
      "source": [
        "#version final funcional\n",
        "def cs(individuo, datos : list,k_max,f_distancia):\n",
        "  dividendo = []\n",
        "  divisor = []\n",
        "  centros = individuo.cromosoma[k_max::]\n",
        "  for centro in individuo.activos:\n",
        "    elementos = obtener_elementos(individuo.particion,centro,datos)\n",
        "    centros[centro] = calcular_centroide(centro,elementos)\n",
        "    'vamos a calcular la distancia mas grande de un punto a cualquier otro, para todos los puntos en el grupo'\n",
        "    distancias_puntos = []\n",
        "    for i in range(len( elementos)):\n",
        "      distancias_puntos.append( max([f_distancia(elementos[i],elementos[x2],True) for x2 in range(len(elementos)) if x2 != i ] )    )\n",
        "    dividendo.append(np.mean(distancias_puntos))\n",
        "    'ahora calculamos las mimimas distancias entre los centroides de cada grupo'\n",
        "    divisor.append( min([f_distancia(centros[centro],centros[x1]) for x1 in individuo.activos if x1 != centro] )  )\n",
        "  'actualizamos la informacion del individuo, ya que alteramos una copia de sus datos'\n",
        "  individuo.cromosoma[k_max::] = centros\n",
        "  return(np.mean(dividendo) / np.mean(divisor))"
      ],
      "execution_count": null,
      "outputs": []
    }
  ]
}