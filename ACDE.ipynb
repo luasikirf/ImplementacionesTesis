{
  "nbformat": 4,
  "nbformat_minor": 0,
  "metadata": {
    "colab": {
      "name": "DEclases.ipynb",
      "provenance": [],
      "collapsed_sections": []
    },
    "kernelspec": {
      "name": "python3",
      "display_name": "Python 3"
    },
    "language_info": {
      "name": "python"
    }
  },
  "cells": [
    {
      "cell_type": "code",
      "metadata": {
        "id": "j8_7LMvhlqWc"
      },
      "source": [
        "import numpy as np\n",
        "from numpy import dot\n",
        "from numpy.linalg import norm\n",
        "import random\n",
        "import pandas as pd"
      ],
      "execution_count": 2,
      "outputs": []
    },
    {
      "cell_type": "code",
      "metadata": {
        "id": "snkqiLoBlwNv"
      },
      "source": [
        "class individuo:\n",
        "  def __init__(self,k_max,k_min,x_min,x_max,d):\n",
        "    self.cromosoma = list(np.random.random(k_max))\n",
        "    self.checar(k_max,k_min)\n",
        "\n",
        "    for j in range(k_max): #creamos los centroides\n",
        "      self.cromosoma.append(list(np.random.uniform(low=x_min,high=x_max,size=d)))\n",
        "  def checar(ind,k_max,k_min):\n",
        "    ind.activos = [i for i in range(k_max) if ind.cromosoma[i] > 0.5]\n",
        "    while len(ind.activos) < k_min:\n",
        "      ind.cromosoma = list(np.random.random(k_max))\n",
        "      ind.activos = [i for i in range(k_max) if ind.cromosoma[i] > 0.5]\n",
        "  cs = None\n",
        "  particion = None"
      ],
      "execution_count": 6,
      "outputs": []
    },
    {
      "cell_type": "code",
      "metadata": {
        "id": "wfRSGriTLNph"
      },
      "source": [
        "class individuo_vacio:\n",
        "  cromosoma = []\n",
        "  activos = []\n",
        "  cs = None\n",
        "  particion = None"
      ],
      "execution_count": 7,
      "outputs": []
    },
    {
      "cell_type": "code",
      "metadata": {
        "id": "Kk6yGCs6mdv_"
      },
      "source": [
        "def distancia(x1 , x2, flag = False ):\n",
        "  '''la bandera nos indica si se calcula distancia entre datos \n",
        "  o entre un dato y un centroide, cuando es True indica distancia\n",
        "  entre 2 puntos'''\n",
        "  global distanciasP\n",
        "  if flag == False:\n",
        "    return( dot(x1, x2)/(norm(x1)*norm(x2)) )\n",
        "  else:\n",
        "    try:\n",
        "      return(distanciasP[str(x1+x2)])\n",
        "    except:\n",
        "      try:\n",
        "        return(distanciasP[str(x2+x1)])\n",
        "      except:\n",
        "        dist = dot(x1, x2)/(norm(x1)*norm(x2))\n",
        "        distanciasP[str(x2+x1)] = dist\n",
        "        distanciasP[str(x1+x2)] = dist\n",
        "        return(distanciasP[str(x1+x2)])"
      ],
      "execution_count": 8,
      "outputs": []
    },
    {
      "cell_type": "code",
      "metadata": {
        "colab": {
          "base_uri": "https://localhost:8080/"
        },
        "id": "uOLQXbOLQM1y",
        "outputId": "6ace8ae7-7001-465b-816b-3371f810da12"
      },
      "source": [
        "distanciasP={}\n",
        "distancia([4,5],[1,2],True)"
      ],
      "execution_count": 8,
      "outputs": [
        {
          "output_type": "execute_result",
          "data": {
            "text/plain": [
              "0.9778024140774094"
            ]
          },
          "metadata": {},
          "execution_count": 8
        }
      ]
    },
    {
      "cell_type": "code",
      "metadata": {
        "id": "QuaFCMb4pxG4"
      },
      "source": [
        "def obtener_elementos(particion,cluster,datos):\n",
        "  '''\n",
        "  Devuelve los elemetos que forman parte del cluster especificado,\n",
        "  ya que los guardamos en una lista simple, donde el indice indica \n",
        "  el numero del elemento y el valor indica el cluster al que pertenece.\n",
        "  '''\n",
        "  return [datos[i] for i in range(len(particion)) if particion[i] == cluster]"
      ],
      "execution_count": 9,
      "outputs": []
    },
    {
      "cell_type": "code",
      "metadata": {
        "id": "bg8N9ea4Gygp"
      },
      "source": [
        "def repartir_datos(len_datos,activos):\n",
        "  r = []\n",
        "  c = 0\n",
        "  while len(r) < len_datos:\n",
        "    r.append(activos[c])\n",
        "    if c !=len(activos)-1:\n",
        "      c+=1\n",
        "    else:\n",
        "      c=0\n",
        "  return(r)"
      ],
      "execution_count": 10,
      "outputs": []
    },
    {
      "cell_type": "code",
      "metadata": {
        "id": "iGM8gdtx-o-v"
      },
      "source": [
        "#version funcional\n",
        "def completar_individuo(individuo , datos : list,k_max : int, eps = 0.0001):\n",
        "  '''esta funcion agrega los datos que le hacen falta a los individuos cuando\n",
        "  son recien creados, le agrega su particion de elementos y el valor de que\n",
        "  toma en la funcion objetivo '''\n",
        "\n",
        "  'primero agregamos la particion'\n",
        "  particion = []\n",
        "  for dato in datos:\n",
        "    distancias = [ distancia( dato,individuo.cromosoma[k_max+i] ) if individuo.cromosoma[i] > 0.5 else -1.1 for i in range(k_max)  ]\n",
        "    #print('distancias',distancias)\n",
        "    particion.append(distancias.index(max(distancias))) # la similitud da mayor puntaje a objetos mas cercanos, por eso usamos max\n",
        "  individuo.particion = particion\n",
        "\n",
        "  'Algunos cromosomas dan errores, aqui verificamos si es el caso, si asi fuera, lo solucionamos cambiando la particion'\n",
        "  for grupo in individuo.activos:\n",
        "    cant_ele = sum([1 for i in individuo.particion if i == grupo])\n",
        "    'un cromosoma defectuosos es el que contiene algun centro con menos de 2 elementos, verificamos si esto pasa'\n",
        "    if cant_ele < 2:\n",
        "      individuo.particion = repartir_datos(len(datos),individuo.activos)\n",
        "      break\n",
        "  #print('particion ind',individuo.particion)\n",
        "  individuo.cs = 1 / (cs(individuo,datos,k_max) + eps)"
      ],
      "execution_count": 11,
      "outputs": []
    },
    {
      "cell_type": "code",
      "metadata": {
        "id": "gzzBVf4NJA2w"
      },
      "source": [
        "def calcular_centroide(centro,elementos):\n",
        "  return(list(np.mean(elementos,axis = 0)))"
      ],
      "execution_count": 12,
      "outputs": []
    },
    {
      "cell_type": "code",
      "metadata": {
        "id": "n0sQr1wvplzM"
      },
      "source": [
        "def calcular_dist(datos):\n",
        "  global distanciasP\n",
        "  c=0\n",
        "  for i in range(len(datos)):\n",
        "    for j in range(i+1,len(datos)):\n",
        "      c+=1\n",
        "      x1 = datos[i]\n",
        "      x2 = datos[j]\n",
        "      dist = dot(x1, x2)/(norm(x1)*norm(x2))\n",
        "      distanciasP[str(x2+x1)] = dist\n",
        "      distanciasP[str(x1+x2)] = dist\n",
        "  print('deberian de haberse calculado todas las distancias entre puntos')\n",
        "  print('contador',c)\n"
      ],
      "execution_count": 21,
      "outputs": []
    },
    {
      "cell_type": "code",
      "metadata": {
        "id": "1vtEOFfg4slS"
      },
      "source": [
        "def ACDE(cr_max, cr_min, k_max, k_min, pop_size, x_min, x_max, d : int, max_eval, datos : list,eps : float = 0.001):\n",
        "  '''\n",
        "  cr_max es el valor maximo que puede tomar la constante de cruza\n",
        "  cr_min es el minimo valor que puede tomar la CR\n",
        "  k_max el numero maximo de grupos que puede haber\n",
        "  k_min el minimo de rupos que deben de considerarse\n",
        "  pop_size tamaño de la poblacion\n",
        "  x_max y x_min sirven para delimitar el rango de valores que pueden\n",
        "  tener los datos, por ejemplo, estan en el rango (0,2)\n",
        "  d es la dimension de los datos R2 : (x,y), R3 : (x,y,z) etc\n",
        "  max_eval es la cantidad maxima de llamadas a la funcion aptitud CS\n",
        "  datos es una lista con los datos a ordenar\n",
        "  ADVERTENCIA LA CANTIDAD DE DATOS DEBE SER AL MENOS 2 VECES LA CANTIDAD DE GRUPOS\n",
        "  '''\n",
        "  global distanciasP\n",
        "  distanciasP= {}\n",
        "  calcular_dist(datos)\n",
        "  print('el diccionario tiene', len(distanciasP))\n",
        "\n",
        "  'creamos la poblacion inicial y le agregamos sus particiones y valores en CS'\n",
        "  poblacion = [individuo(k_max,k_min,x_min,x_max,d) for i in range(pop_size)]\n",
        "  for ind in poblacion:\n",
        "    completar_individuo(ind, datos, k_max,eps)\n",
        "  'iteramos el algoritmo t generaciones, para saber cuantas deben ser, al numero de evaluaciones restamos pop_size y dividimos entre pop_size'\n",
        "  iter = (max_eval*pop_size)//pop_size\n",
        "  best = sorted(poblacion, key= lambda x: x.cs, reverse=True)[0]\n",
        "\n",
        "  'la siguiente lista es solo para darse una idea de cuanto va avanzando el algoritmo'\n",
        "  avance = np.linspace(10,1000,num=100)\n",
        "\n",
        "\n",
        "  for t in range(1,iter+1):\n",
        "    cr = (cr_max-cr_min) * ((iter-t) / iter)\n",
        "    F = 0.5*(1+np.random.random())\n",
        "    'recorremos individuo a individuo para aplicar ED'\n",
        "    for ind in poblacion:\n",
        "      intento = individuo_vacio()\n",
        "      a,b,c = random.sample(poblacion,3)\n",
        "      'hacemos la cruza y mutacion para darle valores al individuo intento'\n",
        "      l = []\n",
        "      for i in range(len(ind.cromosoma)):\n",
        "        if np.random.random() < cr:\n",
        "          if i < k_max:\n",
        "            l.append(c.cromosoma[i] + F*(a.cromosoma[i]-b.cromosoma[i]) )\n",
        "          else:\n",
        "            l.append( [c.cromosoma[i][j] + F*(a.cromosoma[i][j]-b.cromosoma[i][j]) for j in range(d)     ]   )\n",
        "        else:\n",
        "          l.append(ind.cromosoma[i])\n",
        "      intento.cromosoma = l\n",
        "      intento.activos = [j for j in range(k_max) if intento.cromosoma[j] > 0.5]\n",
        "      'existe la posibilidad, de que al cruzar no se cumpla que hayan almenos k_min cluster activos, si esto pasa reiniciamos los coeficientes'\n",
        "      while len(intento.activos) < k_min:\n",
        "        intento.cromosoma[:k_max] = np.random.random(k_max)\n",
        "        intento.activos = [j for j in range(k_max) if intento.cromosoma[j] > 0.5]\n",
        "      completar_individuo(intento,datos,k_max,eps)\n",
        "      if intento.cs > ind.cs:\n",
        "        poblacion[poblacion.index(ind)]= intento\n",
        "      if intento.cs > best.cs:\n",
        "        best = intento\n",
        "    if t in avance:\n",
        "      print('vamos en la iteracion',t,'avance: ',(t*10)/1000,'%')\n",
        "    #print(t)\n",
        "  print('mejor',best.cromosoma,'puntiacion',best.cs)"
      ],
      "execution_count": 19,
      "outputs": []
    },
    {
      "cell_type": "code",
      "metadata": {
        "id": "WI__IMUK6EQX"
      },
      "source": [
        "datos = [[4,5],[1,3],[0,2],[1,1],[5,4],[15,3],[1,7],[2,5] ]"
      ],
      "execution_count": null,
      "outputs": []
    },
    {
      "cell_type": "code",
      "metadata": {
        "colab": {
          "base_uri": "https://localhost:8080/"
        },
        "id": "AAiQcs_r55l7",
        "outputId": "ac6644e2-eae6-4d55-f2be-cb108564fd1e"
      },
      "source": [
        "ACDE(cr_max=1,cr_min=0.5,k_max=3,k_min=2,pop_size=5,x_min=2,x_max=5,d = 2,max_eval=20,datos=datos,eps=0.001)"
      ],
      "execution_count": null,
      "outputs": [
        {
          "output_type": "stream",
          "name": "stdout",
          "text": [
            "mejor [0.9032407491002791, 0.6973664637344199, 0.7182817043527832, [2.0, 4.333333333333333], [2.6666666666666665, 4.0], [7.5, 2.5]] puntiacion 1.4747385050162212\n"
          ]
        }
      ]
    },
    {
      "cell_type": "code",
      "metadata": {
        "id": "QyA9-5qx62mK"
      },
      "source": [
        "#version final funcional\n",
        "def cs(individuo, datos : list,k_max):\n",
        "  dividendo = []\n",
        "  divisor = []\n",
        "  centros = individuo.cromosoma[k_max::]\n",
        "  for centro in individuo.activos:\n",
        "    elementos = obtener_elementos(individuo.particion,centro,datos)\n",
        "    centros[centro] = calcular_centroide(centro,elementos)\n",
        "    'vamos a calcular la distancia mas grande de un punto a cualquier otro, para todos los puntos en el grupo'\n",
        "    distancias_puntos = []\n",
        "    for i in range(len( elementos)):\n",
        "      distancias_puntos.append( min([distancia(elementos[i],elementos[x2],True) for x2 in range(len(elementos)) if x2 != i ] )    )\n",
        "    dividendo.append(np.mean(distancias_puntos))\n",
        "    'ahora calculamos las mimimas distancias entre los centroides de cada grupo'\n",
        "    divisor.append( max([distancia(centros[centro],centros[x1]) for x1 in individuo.activos if x1 != centro] )  )\n",
        "  'actualizamos la informacion del individuo, ya que alteramos una copia de sus datos'\n",
        "  individuo.cromosoma[k_max::] = centros\n",
        "  return(np.mean(dividendo) / np.mean(divisor))"
      ],
      "execution_count": 15,
      "outputs": []
    },
    {
      "cell_type": "code",
      "metadata": {
        "id": "_wUPDqaN6fbA"
      },
      "source": [
        "datos = pd.read_csv('/content/drive/MyDrive/csv/iris_data.csv',header=None);\n",
        "datos.columns = [0,1,2,3,'clase']\n",
        "datos.drop(['clase'],axis = 1,inplace=True)\n",
        "datos = datos.to_numpy()"
      ],
      "execution_count": 3,
      "outputs": []
    },
    {
      "cell_type": "code",
      "metadata": {
        "colab": {
          "base_uri": "https://localhost:8080/"
        },
        "id": "5SBChQGO5CxT",
        "outputId": "5c0c09aa-f565-471f-ab09-1c56b5217483"
      },
      "source": [
        "datos[0:2]"
      ],
      "execution_count": 17,
      "outputs": [
        {
          "output_type": "execute_result",
          "data": {
            "text/plain": [
              "array([[5.1, 3.5, 1.4, 0.2],\n",
              "       [4.9, 3. , 1.4, 0.2]])"
            ]
          },
          "metadata": {},
          "execution_count": 17
        }
      ]
    },
    {
      "cell_type": "code",
      "metadata": {
        "colab": {
          "base_uri": "https://localhost:8080/"
        },
        "id": "_wAx7etY5Qu1",
        "outputId": "ab8f3328-be30-4dda-9bdc-cbf81da099e8"
      },
      "source": [
        "print('maximo',max([x for y in datos for x in y])  )\n",
        "print('minimo',min([x for y in datos for x in y])  )"
      ],
      "execution_count": 31,
      "outputs": [
        {
          "output_type": "stream",
          "name": "stdout",
          "text": [
            "maximo 7.9\n",
            "minimo 0.1\n"
          ]
        }
      ]
    },
    {
      "cell_type": "code",
      "metadata": {
        "colab": {
          "base_uri": "https://localhost:8080/"
        },
        "id": "KJsw7x6csMbz",
        "outputId": "c030fec3-46b2-4d96-8ae9-82a4634712dc"
      },
      "source": [
        "len(datos)"
      ],
      "execution_count": 17,
      "outputs": [
        {
          "output_type": "execute_result",
          "data": {
            "text/plain": [
              "150"
            ]
          },
          "metadata": {},
          "execution_count": 17
        }
      ]
    },
    {
      "cell_type": "code",
      "metadata": {
        "id": "u8gAUjhG45bn"
      },
      "source": [
        "ACDE(cr_max=1,cr_min=0.5,k_max=20,k_min=2,pop_size=10,x_min=0.1,x_max=7.9,d = 4,max_eval=100,datos=datos,eps=0.001)"
      ],
      "execution_count": null,
      "outputs": []
    },
    {
      "cell_type": "code",
      "metadata": {
        "id": "hibH8N2ulybf"
      },
      "source": [
        "#version beta\n",
        "def completar_individuo(individuo , datos : list,k_max : int):\n",
        "  '''esta funcion agrega los datos que le hacen falta a los individuos cuando\n",
        "  son recien creados, le agrega su particion de elementos y el valor de que\n",
        "  toma en la funcion objetivo '''\n",
        "\n",
        "  'primero agregamos la particion'\n",
        "  particion = []\n",
        "  for dato in datos:\n",
        "    distancias = [ distancia( dato,individuo.cromosoma[k_max+i] ) if individuo.cromosoma[i] > 0.5 else -1.1 for i in range(k_max)  ]\n",
        "    particion.append(distancias.index(max(distancias))) # la similitud da mayor puntaje a objetos mas cercanos, por eso usamos max\n",
        "  individuo.particion = particion\n",
        "\n",
        "  'Algunos cromosomas dan errores, aqui verificamos si es el caso, si asi fuera, lo solucionamos cambiando la particion'\n",
        "  for grupo in individuo.activos:\n",
        "    cant_ele = sum([1 for i in individuo.particion if i == grupo])\n",
        "    #elementos = obtener_elementos(individuo.particion,grupo,datos)\n",
        "    'un cromosoma defectuosos es el que contiene algun centro con menos de 2 elementos, verificamos si esto pasa'\n",
        "    if cant_ele < 2:\n",
        "      individuo.activos.remove(grupo)\n",
        "\n",
        "  individuo.cs = cs(individuo,datos,k_max)\n"
      ],
      "execution_count": 24,
      "outputs": []
    },
    {
      "cell_type": "code",
      "metadata": {
        "id": "mLXY8p-NpLmS"
      },
      "source": [
        "#version beta\n",
        "def cs(individuo, datos : list,k_max):\n",
        "  dividendo = []\n",
        "  divisor = []\n",
        "  centros = individuo.cromosoma[k_max::]\n",
        "  for centro in individuo.activos:\n",
        "    elementos = obtener_elementos(individuo.particion,centro,datos)\n",
        "    centros[centro] = calcular_centroide(centro,elementos)\n",
        "    'vamos a calcular la distancia mas grande de un punto a cualquier otro, para todos los puntos en el grupo'\n",
        "    distancias_puntos = []\n",
        "    for punto in elementos:\n",
        "      distancias_puntos.append( min([distancia(punto,x2) for x2 in elementos if x2 != punto ] )    )\n",
        "    dividendo.append(np.mean(distancias_puntos))\n",
        "    'ahora calculamos las mimimas distancias entre los centroides de cada grupo'\n",
        "    divisor.append( max([distancia(centros[centro],centros[x1]) for x1 in individuo.activos if x1 != centro] )  )\n",
        "  'actualizamos la informacion del individuo, ya que alteramos una copia de sus datos'\n",
        "  individuo.cromosoma[k_max::] = centros\n",
        "  return(np.mean(dividendo) / np.mean(divisor))"
      ],
      "execution_count": null,
      "outputs": []
    },
    {
      "cell_type": "code",
      "metadata": {
        "id": "tWwqU7qy5oGW"
      },
      "source": [
        ""
      ],
      "execution_count": null,
      "outputs": []
    }
  ]
}
