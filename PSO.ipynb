{
  "nbformat": 4,
  "nbformat_minor": 0,
  "metadata": {
    "colab": {
      "provenance": []
    },
    "kernelspec": {
      "name": "python3",
      "display_name": "Python 3"
    },
    "language_info": {
      "name": "python"
    }
  },
  "cells": [
    {
      "cell_type": "markdown",
      "source": [
        "# librerias"
      ],
      "metadata": {
        "id": "_9G_DTarzclG"
      }
    },
    {
      "cell_type": "code",
      "source": [
        "import random\n",
        "import numpy as np\n",
        "from sklearn.metrics.pairwise import euclidean_distances\n",
        "import copy\n",
        "from sklearn.metrics import davies_bouldin_score as DB\n",
        "import pandas as pd\n",
        "from sklearn.cluster import KMeans as km"
      ],
      "metadata": {
        "id": "zDUH0vjgzbGE"
      },
      "execution_count": 19,
      "outputs": []
    },
    {
      "cell_type": "markdown",
      "source": [
        "#codigo PSO"
      ],
      "metadata": {
        "id": "rTenbIJvzezX"
      }
    },
    {
      "cell_type": "code",
      "source": [
        "class particula:\n",
        "  def __init__(self, d : int, x_min : float, x_max : float,\n",
        "               v_min : float, v_max: float, k, centros):\n",
        "    self.posicion = centros\n",
        "    self.velocidad = np.random.uniform(v_min,v_max,size = (k,d))\n",
        "    self.objetivo= None\n",
        "    self.mejorPos = copy.deepcopy(self.posicion)\n",
        "    self.objetivo_best = None\n",
        "    self.nGrupos = k\n",
        "    self.dim = d\n",
        "    self.particion = None"
      ],
      "metadata": {
        "id": "RoIuFZK8hNEG"
      },
      "execution_count": 1,
      "outputs": []
    },
    {
      "cell_type": "code",
      "source": [
        "def aptitud(datos,particula):\n",
        "  '''Asigna el valor de la aptitud a una particula en\n",
        "  base a su particion y centroides '''\n",
        "  #calculamos la aptitud\n",
        "  separacion = 0\n",
        "  for i,centro in enumerate(particula.posicion):\n",
        "    #obtenemos los elementos del grupo i\n",
        "    elementos = datos[np.where(particula.particion == i)]\n",
        "    separacion+=sum(\n",
        "        [np.linalg.norm(dato-centro)**2 for dato in elementos])\n",
        "  return(separacion/len(datos))"
      ],
      "metadata": {
        "id": "-DaHrPoniN5h"
      },
      "execution_count": 2,
      "outputs": []
    },
    {
      "cell_type": "code",
      "source": [
        "def aptitud2(datos,particula):\n",
        "  return(DB(datos,particula.particion))"
      ],
      "metadata": {
        "id": "Immvvbfu68vn"
      },
      "execution_count": 3,
      "outputs": []
    },
    {
      "cell_type": "code",
      "source": [
        "def iniciar(x_min,x_max,v_min,v_max,k,n_part,datos,f_apt):\n",
        "  '''d es la dimension de los datos\n",
        "  x_max y x_min delimitan el intervalo de los valores de los datos'''\n",
        "  dim = len(datos[0])\n",
        "  particulas= []\n",
        "  for i in range(n_part):\n",
        "    centros = np.array(random.choices(datos,k=k))\n",
        "    part = particula(dim,x_min,x_max,v_max,v_min,k,centros)\n",
        "    verificar_posicion(part,x_min,x_max,datos)\n",
        "    part.objetivo = f_apt(datos,part)\n",
        "    part.objetivo_best = copy.deepcopy(part.objetivo)\n",
        "    particulas.append(part)\n",
        "  mejor = copy.deepcopy(min(particulas, key=lambda x: x.objetivo))\n",
        "  return(particulas,mejor)"
      ],
      "metadata": {
        "id": "d5xhxZUbjOKE"
      },
      "execution_count": 17,
      "outputs": []
    },
    {
      "cell_type": "code",
      "source": [
        "def mover_part(part,inercia,mejor_pos,c1,c2,x_min,x_max,v_min,v_max):\n",
        "  r1,r2 = np.random.uniform(0,1,2)\n",
        "  velocidad = inercia*part.velocidad+(c1*r1*(part.mejorPos-part.posicion))+(c2*r2*(mejor_pos-part.posicion))\n",
        "  posicion = part.posicion + velocidad\n",
        "  #revisar velocidad este dentro del rango\n",
        "  velocidad[np.where(velocidad<v_min)] = v_min\n",
        "  velocidad[np.where(velocidad>v_max)] = v_max\n",
        "  return(velocidad,posicion)"
      ],
      "metadata": {
        "id": "4zQsdXn1y5LT"
      },
      "execution_count": 5,
      "outputs": []
    },
    {
      "cell_type": "code",
      "source": [
        "def verificar_posicion(particula,x_min,x_max, datos):\n",
        "  ''' esta funcion verifica que los centroides no se salgan del rango del\n",
        "  problema en cuestion, se considera que un centroide esta fuera de rango\n",
        "  cuando (1): sus componentes salen del minimo o maximo valor permitido\n",
        "  o (2): cuando el centroide no tienen ningun dato asignado'''\n",
        "  for i,pos in enumerate(particula.posicion):\n",
        "    #comprobamos si algun valor se sale de su x_min o de su x_max\n",
        "    if np.where(pos<x_min)[0].size >0 or np.where(pos>x_max)[0].size >0:\n",
        "      particula.posicion[i] = random.choice(datos)\n",
        "  cambios = True\n",
        "  while cambios:\n",
        "    distancias  = euclidean_distances(datos,particula.posicion)\n",
        "    etiquetas = np.argmin(distancias, axis = 1).tolist()\n",
        "    cambios = False\n",
        "    for i in range(particula.nGrupos):\n",
        "      if etiquetas.count(i) == 0:\n",
        "        particula.posicion[i] = random.choice(datos)\n",
        "        cambios = True\n",
        "  particula.particion= np.array(etiquetas)"
      ],
      "metadata": {
        "id": "W251xs3-EJcb"
      },
      "execution_count": 6,
      "outputs": []
    },
    {
      "cell_type": "code",
      "source": [
        "def pso(x_min,x_max,v_min,v_max,k,n_part,iter_pso,iter_kmean,c1,c2,datos,f_apt):\n",
        "  '''n_part es el numero de particulas\n",
        "  k es el numero de grupos a hacer\n",
        "  x_min y x_max son vectores con los minimos y maximos valores\n",
        "  de cada componente en los datos'''\n",
        "  enjambre,mejor_inicial = iniciar(x_min=x_min,x_max=x_max,\n",
        "                                   v_min=v_min,v_max=v_max,k=k,\n",
        "                                   n_part=n_part, datos=datos,f_apt=f_apt)\n",
        "  cont = 0; sin_cambios = 0; inercia = 0.6; dism = 0.5/(iter_pso-1)\n",
        "  while True:\n",
        "    if cont == iter_pso:\n",
        "      break\n",
        "    for part in enjambre: #actualizar posicion y velocidad\n",
        "      part.velocidad,part.posicion = mover_part(part=part,inercia=inercia,\n",
        "                                 mejor_pos = mejor_inicial.posicion,\n",
        "                                 c1=c1, c2=c2, x_min=x_min, x_max=x_max,\n",
        "                                 v_min=v_min, v_max=v_max)\n",
        "      verificar_posicion(part,x_min,x_max,datos)\n",
        "      part.objetivo = f_apt(datos,part)\n",
        "      #verificamos la mejor posicion visitada de la particula\n",
        "      if part.objetivo < part.objetivo_best:\n",
        "        part.objetivo_best = copy.copy(part.objetivo)\n",
        "        part.mejorPos = copy.copy(part.posicion)\n",
        "    #obtener mejor posicion de la iteracion\n",
        "    mejor_final = copy.deepcopy(min(enjambre, key= lambda x: x.objetivo))\n",
        "    #inercia = inercia - dism\n",
        "    cont += 1\n",
        "    if mejor_final.objetivo< mejor_inicial.objetivo:\n",
        "      mejor_inicial = copy.deepcopy(mejor_final)\n",
        "      sin_cambios = 0\n",
        "    else:\n",
        "      sin_cambios += 1\n",
        "    if sin_cambios == 10:\n",
        "      break\n",
        "  #ejecutamos kmeans\n",
        "  reskmeans = km(n_clusters=k,n_init=1,\n",
        "              max_iter=iter_kmean,init=mejor_inicial.posicion).fit(datos)\n",
        "  reskmeans.posicion = reskmeans.cluster_centers_\n",
        "  reskmeans.particion = reskmeans.labels_\n",
        "  reskmeans.objetivo= f_apt(datos,reskmeans)\n",
        "  return(reskmeans)"
      ],
      "metadata": {
        "id": "CaDqMvJ7ifDD"
      },
      "execution_count": 26,
      "outputs": []
    }
  ]
}