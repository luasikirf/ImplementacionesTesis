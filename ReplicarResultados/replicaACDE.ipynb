{
  "nbformat": 4,
  "nbformat_minor": 0,
  "metadata": {
    "colab": {
      "provenance": [],
      "collapsed_sections": [
        "39GW8KcPGSVU",
        "uPynB3GEAVFt",
        "grQugtQKADcu",
        "rS-_2A5jCvcg",
        "-dX2ur8bC-Q_",
        "8rRSrxmWDByt"
      ]
    },
    "kernelspec": {
      "name": "python3",
      "display_name": "Python 3"
    },
    "language_info": {
      "name": "python"
    }
  },
  "cells": [
    {
      "cell_type": "markdown",
      "source": [
        "## librerias y funciones extra"
      ],
      "metadata": {
        "id": "39GW8KcPGSVU"
      }
    },
    {
      "cell_type": "code",
      "execution_count": 1,
      "metadata": {
        "id": "vTcsSXenGQhE"
      },
      "outputs": [],
      "source": [
        "!pip install kora -q\n",
        "from kora import drive\n",
        "drive.link_nbs()"
      ]
    },
    {
      "cell_type": "code",
      "source": [
        "import numpy as np\n",
        "import scipy.spatial\n",
        "import time\n",
        "import pandas as pd\n",
        "from sklearn.metrics import davies_bouldin_score as DB\n",
        "from sklearn.metrics import confusion_matrix as confusion\n",
        "from sklearn.metrics import completeness_score as completitud\n",
        "from sklearn.metrics import adjusted_rand_score as ari\n",
        "import pickle"
      ],
      "metadata": {
        "id": "PAJXC11gGcbz"
      },
      "execution_count": 2,
      "outputs": []
    },
    {
      "cell_type": "code",
      "source": [
        "from ACDE_EvolucionDiferencial import *"
      ],
      "metadata": {
        "id": "dxyozLgnGV3s",
        "colab": {
          "base_uri": "https://localhost:8080/"
        },
        "outputId": "d44dcd31-b1a1-4d0f-c6f9-c41c97fb0188"
      },
      "execution_count": 3,
      "outputs": [
        {
          "output_type": "stream",
          "name": "stdout",
          "text": [
            "importing Jupyter notebook from /nbs/ACDE_EvolucionDiferencial.ipynb\n"
          ]
        }
      ]
    },
    {
      "cell_type": "code",
      "execution_count": 4,
      "metadata": {
        "id": "TnQqRq236flS"
      },
      "outputs": [],
      "source": [
        "def D_intra_inter(particion,activos,datos):\n",
        "  '''obtenemos la distancia intra cluster de los grupos y la distancia\n",
        "  entre clusters para comparar contra el articulo original\n",
        "  NO USAR PARA COMPARAR METAHEURISTICAS ENTRE SI'''\n",
        "  elementos_g=[]\n",
        "  for i in range(len(activos)):\n",
        "    elementos_g.append(np.where(particion == i)[0].tolist())\n",
        "    activos[i]=np.mean(datos[elementos_g[i]],axis=0)\n",
        "  dividendo = 0\n",
        "  divisor = 0\n",
        "  #iteramos por grupos para sacar su distancia interna y entre grupos\n",
        "  for i,centroide in enumerate(activos):\n",
        "    intra = 0; elementos = elementos_g[i]; nPuntosG = len(elementos)\n",
        "    #sacamos la distancia interna del grupo\n",
        "    for j,elemento in enumerate(elementos):\n",
        "      vecinos = elementos[0:j] + elementos[j+1::]\n",
        "      intra+= max([np.linalg.norm(datos[elemento]-datos[vecino])\n",
        "                   for vecino in vecinos]) / nPuntosG\n",
        "    dividendo += intra\n",
        "    #sacamos la minima distancia entre grupos\n",
        "    centroides_vecinos = np.array(\n",
        "        [centro for iter,centro  in enumerate(activos)if iter != i] )\n",
        "    divisor += min(\n",
        "        [np.linalg.norm(centroide-vecino) for vecino in centroides_vecinos\n",
        "        ])\n",
        "  return(dividendo,divisor)"
      ]
    },
    {
      "cell_type": "code",
      "execution_count": 5,
      "metadata": {
        "id": "h3TuUe8u3RQh"
      },
      "outputs": [],
      "source": [
        "def analizar(mejores,real,datos):\n",
        "  mejores = resultados(mejores,real,datos)\n",
        "  mejores = sorted(mejores,key= lambda x: x.aptitud,reverse=True)\n",
        "  mejorS = mejores[0]; peorS = mejores[-1]; mediaS = mejores[14]\n",
        "  CSs = [x.cs for x in mejores]\n",
        "  promedioCS = np.mean(CSs)\n",
        "  promedioGrupos = np.mean([x.ngrupos for x in mejores])\n",
        "  pintra =np.mean([x.intra for x in mejores])\n",
        "  pinter= np.mean([x.inter for x in mejores])\n",
        "  sortAri = sorted(mejores,key= lambda x: x.ari,reverse=True)\n",
        "  bari, wari,mari = sortAri[0],sortAri[-1],sortAri[14]\n",
        "  sortCom = sorted(mejores,key= lambda x: x.completitud,reverse=True)\n",
        "  bComp, wcomp, mcomp = sortAri[0],sortAri[-1],sortAri[14]\n",
        "  print(f' datos para analisis estadistico')\n",
        "  print(f'la mejor solucion tiene f(x): {mejorS.cs}')\n",
        "  print(f'la peor solucion tiene f(x): {peorS.cs}')\n",
        "  print(f'mediana soluciones {mediaS.cs}')\n",
        "  print(f'los resultados tienen una desv estandar de {np.std(CSs)}')\n",
        "  print(f' datos para comparar con autores')\n",
        "  print(f'las soluciones tuvieron F(X) promedio de {promedioCS}')\n",
        "  print(f'las soluciones encontraron en promedio {promedioGrupos} grupos')\n",
        "  print(f'promedio intra {pintra} promedio inter {pinter}')\n",
        "  print(f'comparar entre metodos')\n",
        "  print(f'ari promedio {np.mean([x.ari for x in mejores])}')\n",
        "  print(f'Mejor ari {bari.ari} peor ari {wari.ari} mediana ari {mari.ari}')\n",
        "  print(f'DEsviacion ARI {np.std([x.ari for x in sortAri])}')\n",
        "  print(f'completitud promedio {np.mean([x.completitud for x in mejores])}')\n",
        "  print(f'Mejor comple {bComp.completitud} peor comple {wcomp.completitud} mediana comple {mcomp.completitud}')\n",
        "  print(f'DEsviacion Comple {np.std([x.completitud for x in sortCom])}')\n",
        "  #print(f'en promedio se malclasificaron {np.mean([x.malClasi for x in mejores])} datos')"
      ]
    },
    {
      "cell_type": "code",
      "execution_count": 6,
      "metadata": {
        "id": "xohM3UNr3Z-J"
      },
      "outputs": [],
      "source": [
        "def resultados(mejoresR,labels,datos):\n",
        "  mejores = []\n",
        "  ldatos = len(datos)\n",
        "  for mejor in mejoresR:\n",
        "    mejor.ngrupos = len(np.where(mejor.umbrales > 0.5)[0])\n",
        "    mejor.activos =[x for i,x in enumerate(mejor.centroides)\n",
        "     if mejor.umbrales[i]>0.5]\n",
        "    #metricas propuestas para evaluar\n",
        "    mejor.completitud = completitud(labels,mejor.particion)\n",
        "    mejor.ari = ari(labels,mejor.particion)\n",
        "    #####\n",
        "    errores = confusion(labels,mejor.particion)\n",
        "    mejor.malClasi = ldatos - sum([errores[i][i] for i in range(len(errores))])\n",
        "    mejor.cs = (1/mejor.aptitud)-0.0001\n",
        "    mejor.intra,mejor.inter=D_intra_inter(\n",
        "        mejor.particion,mejor.activos,datos)\n",
        "    mejores.append(mejor)\n",
        "  return(mejores)"
      ]
    },
    {
      "cell_type": "code",
      "execution_count": 7,
      "metadata": {
        "id": "9hniFl1cM-7W"
      },
      "outputs": [],
      "source": [
        "def obtener(iterar,*parametros):\n",
        "  mejores = []\n",
        "  for iteracion in range(iterar):\n",
        "    mejores.append(acde(*parametros))\n",
        "    print(f'terminamos la iteracion {iteracion+1}')\n",
        "  return(mejores)"
      ]
    },
    {
      "cell_type": "code",
      "source": [
        "def recuperar(archivo):\n",
        "  with open(archivo, \"rb\") as f:\n",
        "      recuperado = pickle.load(f)\n",
        "  return(recuperado)"
      ],
      "metadata": {
        "id": "gWp9JtUPjbtP"
      },
      "execution_count": 8,
      "outputs": []
    },
    {
      "cell_type": "markdown",
      "source": [
        "# Replicar resultados"
      ],
      "metadata": {
        "id": "_S_korakGhNh"
      }
    },
    {
      "cell_type": "markdown",
      "source": [
        "## Agrega la ruta a los archivos \"replica\""
      ],
      "metadata": {
        "id": "uPynB3GEAVFt"
      }
    },
    {
      "cell_type": "code",
      "source": [
        "path = '/content' #aqui pon la ruta a la carpeta con los archivos replica"
      ],
      "metadata": {
        "id": "8XU7tKt6Ad30"
      },
      "execution_count": 9,
      "outputs": []
    },
    {
      "cell_type": "markdown",
      "source": [
        "## En el conjunto iris"
      ],
      "metadata": {
        "id": "grQugtQKADcu"
      }
    },
    {
      "cell_type": "code",
      "source": [
        "iris_datos,iris_min,iris_max,iris_labels = recuperar(path+'/replicaIris.pickle')"
      ],
      "metadata": {
        "id": "PRkNGxXMIBTB"
      },
      "execution_count": 10,
      "outputs": []
    },
    {
      "cell_type": "markdown",
      "source": [
        "### usando Cs como aptitud"
      ],
      "metadata": {
        "id": "7dAgVroQIJ93"
      }
    },
    {
      "cell_type": "code",
      "source": [
        "iris_cs = obtener(31,1,0.5,10,20,iris_min,iris_max,100000,iris_datos,'cs')"
      ],
      "metadata": {
        "id": "EaXoCAyTH4eK"
      },
      "execution_count": null,
      "outputs": []
    },
    {
      "cell_type": "code",
      "source": [
        "analizar(iris_cs,iris_real,iris_datos)"
      ],
      "metadata": {
        "id": "NYG2f2a9IC3B"
      },
      "execution_count": null,
      "outputs": []
    },
    {
      "cell_type": "markdown",
      "source": [
        "### usando DB como aptitud"
      ],
      "metadata": {
        "id": "m1w2tkRXIPpI"
      }
    },
    {
      "cell_type": "code",
      "source": [
        "iris_db = obtener(31,1,0.5,10,20,iris_min,iris_max,100000,iris_datos,'DB')"
      ],
      "metadata": {
        "id": "eY-D9gMYIXtx"
      },
      "execution_count": null,
      "outputs": []
    },
    {
      "cell_type": "code",
      "source": [
        "analizar(iris_db,iris_real,iris_datos)"
      ],
      "metadata": {
        "id": "hGiHDt7PIXty"
      },
      "execution_count": null,
      "outputs": []
    },
    {
      "cell_type": "markdown",
      "source": [
        "## En el conjunto vino"
      ],
      "metadata": {
        "id": "rS-_2A5jCvcg"
      }
    },
    {
      "cell_type": "code",
      "source": [
        "vino_datos,vino_min,vino_max,vino_labels = recuperar(path+'/replicaVino.pickle')"
      ],
      "metadata": {
        "id": "PbGggHMuD3Ch"
      },
      "execution_count": null,
      "outputs": []
    },
    {
      "cell_type": "markdown",
      "source": [
        "### usando Cs como aptitud"
      ],
      "metadata": {
        "id": "UKW4qwE6Irm6"
      }
    },
    {
      "cell_type": "code",
      "source": [
        "vino_cs = obtener(31,1,0.5,10,20,vino_min,vino_max,100000,vino_datos,'cs')"
      ],
      "metadata": {
        "id": "Fg5pZxTLI2or"
      },
      "execution_count": null,
      "outputs": []
    },
    {
      "cell_type": "code",
      "source": [
        "analizar(vino_cs,vino_labels,vino_datos)"
      ],
      "metadata": {
        "id": "cYMFYo-tI4k9"
      },
      "execution_count": null,
      "outputs": []
    },
    {
      "cell_type": "markdown",
      "source": [
        "### usando DB como aptitud"
      ],
      "metadata": {
        "id": "nYKW2BtqIrm6"
      }
    },
    {
      "cell_type": "code",
      "source": [
        "vino_db = obtener(31,1,0.5,10,20,vino_min,vino_max,100000,vino_datos,'DB')"
      ],
      "metadata": {
        "id": "i9_J9D8JJBaB"
      },
      "execution_count": null,
      "outputs": []
    },
    {
      "cell_type": "code",
      "source": [
        "analizar(vino_db,vino_labels,vino_datos)"
      ],
      "metadata": {
        "id": "91hKqLq5JBaB"
      },
      "execution_count": null,
      "outputs": []
    },
    {
      "cell_type": "markdown",
      "source": [
        "## En el conjunto Vidrio"
      ],
      "metadata": {
        "id": "-dX2ur8bC-Q_"
      }
    },
    {
      "cell_type": "code",
      "source": [
        "vidrio_datos,vidrio_min,vidrio_max,vidrio_labels = recuperar(path+'/replicaVidrio.pickle')"
      ],
      "metadata": {
        "id": "w5UIq9JnH5N6"
      },
      "execution_count": null,
      "outputs": []
    },
    {
      "cell_type": "markdown",
      "source": [
        "### usando Cs como aptitud"
      ],
      "metadata": {
        "id": "DOrX0QCcIsZ6"
      }
    },
    {
      "cell_type": "code",
      "source": [
        "vidrio_cs = obtener(31,1,0.5,10,20,vidrio_min,vidrio_max,100000,vidrio_datos,'cs')"
      ],
      "metadata": {
        "id": "ZOsUdwgfJKI7"
      },
      "execution_count": null,
      "outputs": []
    },
    {
      "cell_type": "code",
      "source": [
        "analizar(vidrio_cs,vidrio_labels,vidrio_datos)"
      ],
      "metadata": {
        "id": "Eirwm3_YJ5vv"
      },
      "execution_count": null,
      "outputs": []
    },
    {
      "cell_type": "markdown",
      "source": [
        "### usando DB como aptitud"
      ],
      "metadata": {
        "id": "27EgY9vJIsZ6"
      }
    },
    {
      "cell_type": "code",
      "source": [
        "vidrio_db = obtener(31,1,0.5,10,20,vidrio_min,vidrio_max,100000,vidrio_datos,'DB')"
      ],
      "metadata": {
        "id": "FeQMtfAGJ-Ix"
      },
      "execution_count": null,
      "outputs": []
    },
    {
      "cell_type": "code",
      "source": [
        "analizar(vidrio_db,vidrio_labels,vidrio_datos)"
      ],
      "metadata": {
        "id": "FCBcQfM6J-Iy"
      },
      "execution_count": null,
      "outputs": []
    },
    {
      "cell_type": "markdown",
      "source": [
        "## En el conjunto cancer"
      ],
      "metadata": {
        "id": "8rRSrxmWDByt"
      }
    },
    {
      "cell_type": "code",
      "source": [
        "cancer_datos,cancer_min,cancer_max,cancer_labels = recuperar(path+'/replicaCancer.pickle')"
      ],
      "metadata": {
        "id": "ofU63UylH5oy"
      },
      "execution_count": null,
      "outputs": []
    },
    {
      "cell_type": "markdown",
      "source": [
        "### usando Cs como aptitud"
      ],
      "metadata": {
        "id": "Nb_OpWM7ItAJ"
      }
    },
    {
      "cell_type": "code",
      "source": [
        "cancer_cs = obtener(31,1,0.5,10,20,cancer_min,cancer_max,100000,cancer_datos,'cs')"
      ],
      "metadata": {
        "id": "mF7phJDCKI62"
      },
      "execution_count": null,
      "outputs": []
    },
    {
      "cell_type": "code",
      "source": [
        "analizar(cancer_cs,cancer_labels,cancer_datos)"
      ],
      "metadata": {
        "id": "Eo0Gn64KKCNu"
      },
      "execution_count": null,
      "outputs": []
    },
    {
      "cell_type": "markdown",
      "source": [
        "### usando DB como aptitud"
      ],
      "metadata": {
        "id": "nB8KzjMxItAK"
      }
    },
    {
      "cell_type": "code",
      "source": [
        "cancer_db = obtener(31,1,0.5,10,20,cancer_min,cancer_max,100000,cancer_datos,'DB')"
      ],
      "metadata": {
        "id": "fR9JOOdxKmVp"
      },
      "execution_count": null,
      "outputs": []
    },
    {
      "cell_type": "code",
      "source": [
        "analizar(cancer_db,cancer_labels,cancer_datos)"
      ],
      "metadata": {
        "id": "BADL6Q3ZKmVp"
      },
      "execution_count": null,
      "outputs": []
    }
  ]
}