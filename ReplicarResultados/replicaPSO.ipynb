{
  "nbformat": 4,
  "nbformat_minor": 0,
  "metadata": {
    "colab": {
      "provenance": []
    },
    "kernelspec": {
      "name": "python3",
      "display_name": "Python 3"
    },
    "language_info": {
      "name": "python"
    }
  },
  "cells": [
    {
      "cell_type": "markdown",
      "source": [
        "# librerias y funciones adicionales"
      ],
      "metadata": {
        "id": "4bcnejb4_931"
      }
    },
    {
      "cell_type": "code",
      "source": [
        "from sklearn.metrics import confusion_matrix\n",
        "import itertools\n",
        "import pickle"
      ],
      "metadata": {
        "id": "lRdpG21iYjaN"
      },
      "execution_count": 1,
      "outputs": []
    },
    {
      "cell_type": "code",
      "source": [
        "!pip install kora -q\n",
        "from kora import drive\n",
        "drive.link_nbs()"
      ],
      "metadata": {
        "id": "bCwMZjnIhORM"
      },
      "execution_count": 2,
      "outputs": []
    },
    {
      "cell_type": "code",
      "source": [
        "from PSOPR import *"
      ],
      "metadata": {
        "colab": {
          "base_uri": "https://localhost:8080/"
        },
        "id": "V3y6XCzohWMU",
        "outputId": "19e0d7e9-156c-4917-9454-9d179b65a823"
      },
      "execution_count": 13,
      "outputs": [
        {
          "output_type": "stream",
          "name": "stdout",
          "text": [
            "importing Jupyter notebook from /nbs/PSOPR.ipynb\n"
          ]
        }
      ]
    },
    {
      "cell_type": "code",
      "source": [
        "def obtener_centroides(datos,etiquetas):\n",
        "  n = len(np.unique(etiquetas))\n",
        "  centroides = np.array(\n",
        "      [np.mean(datos[etiquetas == i],axis=0) for i in range(n)] )\n",
        "  return(centroides)"
      ],
      "metadata": {
        "id": "rbd0hPS9xjmA"
      },
      "execution_count": 4,
      "outputs": []
    },
    {
      "cell_type": "code",
      "source": [
        "def error_rate(y_true,y_pred):\n",
        "  '''devuelve el porcentaje de datos mal etiquetados, como lo\n",
        "  calculamos basandonos en la matriz de confusion, debemos considerar\n",
        "  todas las formas en que pudieron haber sido colocadas las etiqueas\n",
        "  (que cada grupo tuviera la clase 0,1,2 etc) y se devuelve el error\n",
        "  mas pequeño, pues se considera esa puntuacion corresponde\n",
        "  al etiquetado correcto'''\n",
        "  n = len(y_true)\n",
        "  indices_grupos = []\n",
        "  grupos = np.unique(y_pred)\n",
        "  #generamos las posibles etiquetas de cada grupo\n",
        "  etiquetados = list(itertools.permutations(grupos))\n",
        "  errores = []\n",
        "  #sacamos los indices de los elementos de cada grupo\n",
        "  for i in range(len(grupos)):\n",
        "    indices_grupos.append(np.where(y_pred == i))\n",
        "  #obtenemos el error de cada etiquetado posible\n",
        "  for etiquetado in etiquetados:\n",
        "    for clase,etiqueta in enumerate(etiquetado):\n",
        "      y_pred[indices_grupos[clase] ] = etiqueta\n",
        "    matriz = confusion_matrix(y_true, y_pred)\n",
        "    aciertos = np.sum([matriz[i][i] for i in range(len(matriz))])\n",
        "    errores.append((n - aciertos)/n)\n",
        "  return(min(errores))"
      ],
      "metadata": {
        "id": "2ALOAmf134gr"
      },
      "execution_count": 5,
      "outputs": []
    },
    {
      "cell_type": "code",
      "source": [
        "def min_mse(y_true,y_pred):\n",
        "  n = len(y_true) #numero de datos a predecir\n",
        "  indices_grupos=[]#guarda la posicion de todos los elemntos de cada grupo\n",
        "  grupos = np.unique(y_pred) #sacamos las clases encontradas\n",
        "  errores = []\n",
        "  #obtenemos todas las formas de etiquetar los grupos en base a las clases\n",
        "  etiquetados = list(itertools.permutations(grupos))\n",
        "  #sacamos los indices de los elementos de cada grupo\n",
        "  for i in range(len(grupos)):\n",
        "    indices_grupos.append(np.where(y_pred == i))\n",
        "  #sacamos el mse de cada etiquetado\n",
        "  for etiquetado in etiquetados:\n",
        "    for clase,etiqueta in enumerate(etiquetado):\n",
        "      y_pred[indices_grupos[clase] ] = etiqueta\n",
        "    errores.append(mse(y_true,y_pred))\n",
        "  return(min(errores))"
      ],
      "metadata": {
        "id": "lNA2y9d7OX4H"
      },
      "execution_count": 6,
      "outputs": []
    },
    {
      "cell_type": "code",
      "source": [
        "def mse_centros(reales,predichos):\n",
        "  dim = len(reales) #numero de datos a predecir\n",
        "  grupos = list(range(len(reales))) #guarda la posicion de todos los elemntos de cada grupo\n",
        "  errores = []\n",
        "  #obtenemos todas las formas de etiquetar los grupos en base a las clases\n",
        "  etiquetados = list(itertools.permutations(grupos))\n",
        "  for etiquetado in etiquetados:\n",
        "    error = []\n",
        "    for clase,etiqueta in enumerate(etiquetado):\n",
        "      error.append(mse(reales[clase],predichos[etiqueta])*dim)\n",
        "    errores.append(np.mean(error))\n",
        "  #print(f'errores {errores}')\n",
        "  return(min(errores))"
      ],
      "metadata": {
        "id": "LizFsxvC0lL3"
      },
      "execution_count": 7,
      "outputs": []
    },
    {
      "cell_type": "code",
      "source": [
        "def analisis_estadistico(datos,x_min,x_max,labels_reales,f_apt,iteraciones):\n",
        "  errores = []\n",
        "  lista_mse = []\n",
        "  aptitudes = []\n",
        "  mse_centroides = []\n",
        "  aris = []\n",
        "  completitudes = []\n",
        "  k = len(np.unique(labels_reales))\n",
        "  centros_reales = obtener_centroides(datos,labels_reales)\n",
        "  metricas = [\"error rate\",\"mse\",\"aptitud\",\"mse centros\"]\n",
        "  for i in range(iteraciones):\n",
        "    res = pso(x_min = x_min, x_max = x_max,v_min = 0,\n",
        "    v_max=1, n_part= 10,iter_pso=100,iter_kmean=50,c1=2,\n",
        "    c2=2,datos= datos, k = k ,f_apt = f_apt)\n",
        "    errores.append(error_rate(labels_reales,res.labels_))\n",
        "    lista_mse.append(min_mse(labels_reales,res.labels_) )\n",
        "    aptitudes.append(res.aptitud)\n",
        "    mse_centroides.append(mse_centros(centros_reales,res.cluster_centers_))\n",
        "    aris.append(ari(labels_reales,res.labels_))\n",
        "    completitudes.append(completitud(labels_reales,res.labels_))\n",
        "  print(f'tras {iteraciones} iteraciones obetenemos lo siguiente')\n",
        "  print(f'metrica mejor peor media mediana desviacion ')\n",
        "  for nombre,metrica in zip(metricas,(errores,lista_mse,aptitudes,mse_centroides)):\n",
        "    print(f'{nombre} {min(metrica):.3f} {np.max(metrica):.3f} {np.mean(metrica):.3f} {np.median(metrica):.4f} {np.std(metrica):.3f}')\n",
        "  for nombre,metrica in zip([\"ARI\",\"completitud\"],(aris,completitudes)):\n",
        "    print(f'{nombre} {max(metrica):.3f} {np.min(metrica):.3f} {np.mean(metrica):.3f} {np.median(metrica):.4f} {np.std(metrica):.3f}')"
      ],
      "metadata": {
        "id": "nJtW8fg2xZ1Y"
      },
      "execution_count": 8,
      "outputs": []
    },
    {
      "cell_type": "code",
      "source": [
        "def recuperar(archivo):\n",
        "  with open(archivo, \"rb\") as f:\n",
        "      recuperado = pickle.load(f)\n",
        "  return(recuperado)"
      ],
      "metadata": {
        "id": "gzhJb6ZIAvFz"
      },
      "execution_count": 9,
      "outputs": []
    },
    {
      "cell_type": "markdown",
      "source": [
        "# Replicar resultados"
      ],
      "metadata": {
        "id": "ZJ1Fng75ABFF"
      }
    },
    {
      "cell_type": "markdown",
      "source": [
        "## Agrega la ruta a los archivos \"replica\""
      ],
      "metadata": {
        "id": "uPynB3GEAVFt"
      }
    },
    {
      "cell_type": "code",
      "source": [
        "path = '/content' #aqui pon la ruta a la carpeta con los archivos replica"
      ],
      "metadata": {
        "id": "8XU7tKt6Ad30"
      },
      "execution_count": 10,
      "outputs": []
    },
    {
      "cell_type": "markdown",
      "source": [
        "## En el conjunto iris"
      ],
      "metadata": {
        "id": "grQugtQKADcu"
      }
    },
    {
      "cell_type": "code",
      "source": [
        "iris_datos,iris_min,iris_max,iris_labels = recuperar(path+'/replicaIris.pickle')"
      ],
      "metadata": {
        "id": "fXMFCbSkAGge"
      },
      "execution_count": 11,
      "outputs": []
    },
    {
      "cell_type": "code",
      "source": [
        "#replica los resultados usando la función aptitud original\n",
        "analisis_estadistico(datos=iris_datos,\n",
        "                     x_min =iris_min,x_max=iris_max,\n",
        "                     labels_reales=iris_labels,\n",
        "                     f_apt=aptitud,iteraciones=31)"
      ],
      "metadata": {
        "id": "nztpIe10_6Hn"
      },
      "execution_count": null,
      "outputs": []
    },
    {
      "cell_type": "code",
      "source": [
        "#replica los resultados usando la función aptitud DB\n",
        "analisis_estadistico(datos=iris_datos,\n",
        "                     x_min =iris_min,x_max=iris_max,\n",
        "                     labels_reales=iris_labels,\n",
        "                     f_apt=aptitud2,iteraciones=31)"
      ],
      "metadata": {
        "id": "emGsFEdqBWEf"
      },
      "execution_count": null,
      "outputs": []
    },
    {
      "cell_type": "markdown",
      "source": [
        "## En el conjunto vino"
      ],
      "metadata": {
        "id": "rS-_2A5jCvcg"
      }
    },
    {
      "cell_type": "code",
      "source": [
        "vino_datos,vino_min,vino_max,vino_labels = recuperar(path+'/replicaVino.pickle')"
      ],
      "metadata": {
        "id": "PbGggHMuD3Ch"
      },
      "execution_count": null,
      "outputs": []
    },
    {
      "cell_type": "code",
      "source": [
        "#replica los resultados usando la función aptitud original\n",
        "analisis_estadistico(datos=vino_datos,\n",
        "                     x_min =vino_min,x_max=vino_max,\n",
        "                     labels_reales=vino_labels,\n",
        "                     f_apt=aptitud,iteraciones=31)"
      ],
      "metadata": {
        "id": "q_ktocVoDuxy"
      },
      "execution_count": null,
      "outputs": []
    },
    {
      "cell_type": "code",
      "source": [
        "#replica los resultados usando la función aptitud DB\n",
        "analisis_estadistico(datos=vino_datos,\n",
        "                     x_min =vino_min,x_max=vino_max,\n",
        "                     labels_reales=vino_labels,\n",
        "                     f_apt=aptitud2,iteraciones=31)"
      ],
      "metadata": {
        "id": "wot7M7RXDwuK"
      },
      "execution_count": null,
      "outputs": []
    },
    {
      "cell_type": "markdown",
      "source": [
        "## En el conjunto Vidrio"
      ],
      "metadata": {
        "id": "-dX2ur8bC-Q_"
      }
    },
    {
      "cell_type": "code",
      "source": [
        "vidrio_datos,vidrio_min,vidrio_max,vidrio_labels = recuperar(path+'/replicaVidrio.pickle')"
      ],
      "metadata": {
        "id": "I6FPWPETEFIo"
      },
      "execution_count": null,
      "outputs": []
    },
    {
      "cell_type": "code",
      "source": [
        "#replica los resultados usando la función aptitud original\n",
        "analisis_estadistico(datos=vidrio_datos,\n",
        "                     x_min =vidrio_min,x_max=vidrio_max,\n",
        "                     labels_reales=vidrio_labels,\n",
        "                     f_apt=aptitud,iteraciones=31)"
      ],
      "metadata": {
        "id": "aBr6mMuYDmuK"
      },
      "execution_count": null,
      "outputs": []
    },
    {
      "cell_type": "code",
      "source": [
        "#replica los resultados usando la función aptitud DB\n",
        "analisis_estadistico(datos=vidrio_datos,\n",
        "                     x_min =vidrio_min,x_max=vidrio_max,\n",
        "                     labels_reales=vidrio_labels,\n",
        "                     f_apt=aptitud2,iteraciones=31)"
      ],
      "metadata": {
        "id": "vXGMQiEtDnba"
      },
      "execution_count": null,
      "outputs": []
    },
    {
      "cell_type": "markdown",
      "source": [
        "## En el conjunto cancer"
      ],
      "metadata": {
        "id": "8rRSrxmWDByt"
      }
    },
    {
      "cell_type": "code",
      "source": [
        "cancer_datos,cancer_min,cancer_max,cancer_labels = recuperar(path+'/replicaCancer.pickle')"
      ],
      "metadata": {
        "id": "WoYmC3rHDL-F"
      },
      "execution_count": null,
      "outputs": []
    },
    {
      "cell_type": "code",
      "source": [
        "#replica los resultados usando la función aptitud original\n",
        "analisis_estadistico(datos=cancer_datos,\n",
        "                     x_min =cancer_min,x_max=cancer_max,\n",
        "                     labels_reales=cancer_labels,\n",
        "                     f_apt=aptitud,iteraciones=31)"
      ],
      "metadata": {
        "id": "I8u1YgGXC6DY"
      },
      "execution_count": null,
      "outputs": []
    },
    {
      "cell_type": "code",
      "source": [
        "#replica los resultados usando la función aptitud DB\n",
        "analisis_estadistico(datos=cancer_datos,\n",
        "                     x_min =cancer_min,x_max=cancer_max,\n",
        "                     labels_reales=cancer_labels,\n",
        "                     f_apt=aptitud2,iteraciones=31)"
      ],
      "metadata": {
        "id": "EjDANgwDDOyV"
      },
      "execution_count": null,
      "outputs": []
    }
  ]
}