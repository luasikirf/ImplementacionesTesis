{
  "cells": [
    {
      "cell_type": "markdown",
      "metadata": {
        "id": "Pqyt3aw5QtgP"
      },
      "source": [
        "#Librerias"
      ]
    },
    {
      "cell_type": "code",
      "execution_count": null,
      "metadata": {
        "id": "X6horg8OQkgO"
      },
      "outputs": [],
      "source": [
        "import numpy as np\n",
        "import scipy.spatial\n",
        "#import time\n",
        "import pandas as pd\n",
        "from sklearn.metrics import davies_bouldin_score as DB\n",
        "from sklearn.metrics.pairwise import euclidean_distances\n",
        "import copy\n",
        "from sklearn.metrics import adjusted_rand_score as ari\n",
        "#from sklearn.metrics import mean_squared_error as rmse\n",
        "#import pickle"
      ]
    },
    {
      "cell_type": "markdown",
      "metadata": {
        "id": "W2uMiCEbQzbm"
      },
      "source": [
        "#Lectura datos"
      ]
    },
    {
      "cell_type": "code",
      "execution_count": null,
      "metadata": {
        "id": "CVXiNbgvQ2bE"
      },
      "outputs": [],
      "source": [
        "'''iris =pd.read_csv('/content/drive/MyDrive/csv/iris_data.csv',header=None);\n",
        "iris.columns = [0,1,2,3,'clase']; iris_real = iris['clase']\n",
        "iris.drop(['clase'],axis = 1,inplace=True);iris_max = list(iris.max())\n",
        "iris_min = list(iris.min()); iris_datos = iris.to_numpy()\n",
        "G = [0,1,2]; clases = ['Iris-versicolor','Iris-virginica','Iris-setosa'];\n",
        "for i in range(3):\n",
        "  iris_real.replace(clases[i],i,inplace=True)'''"
      ]
    },
    {
      "cell_type": "code",
      "execution_count": null,
      "metadata": {
        "id": "jSCE__v5RN3Z"
      },
      "outputs": [],
      "source": [
        "'''cancer = pd.read_csv(\n",
        "    '/content/drive/MyDrive/csv/breast-cancer-wisconsin.csv',header=None\n",
        "    )\n",
        "cancer.replace('?',np.nan,inplace=True); cancer.dropna(inplace=True)\n",
        "cancer_datos = cancer.drop([0,10],axis=1);cancer_labels = cancer[10]\n",
        "cancer_datos[6] = [int(i) for i in cancer_datos[6]]\n",
        "cancer_max = list(cancer_datos.max());cancer_min = list(cancer_datos.min())\n",
        "cancer_datos = cancer_datos.to_numpy() '''"
      ]
    },
    {
      "cell_type": "code",
      "execution_count": null,
      "metadata": {
        "id": "EjiwqloiRazw"
      },
      "outputs": [],
      "source": [
        "'''vidrio = pd.read_csv('/content/drive/MyDrive/csv/glass.csv',header=None)\n",
        "vidrio_labels = vidrio[10];vidrio_datos = vidrio.drop([10,0],axis=1)\n",
        "vidrio_min = list(vidrio_datos.min());vidrio_max = list(vidrio_datos.max())\n",
        "vidrio_datos = np.array(vidrio_datos)'''"
      ]
    },
    {
      "cell_type": "code",
      "execution_count": null,
      "metadata": {
        "id": "6jjtjOGPRi2S"
      },
      "outputs": [],
      "source": [
        "'''vino = pd.read_csv('/content/drive/MyDrive/csv/wine.csv',header=None)\n",
        "vino_labels = vino[0];vino_datos = vino.drop(0,axis=1)\n",
        "vino_max = list(vino_datos.max());vino_min = list(vino_datos.min())\n",
        "vino_datos = np.array(vino_datos)'''"
      ]
    },
    {
      "cell_type": "markdown",
      "metadata": {
        "id": "OTDSDDpZQwjZ"
      },
      "source": [
        "#Codigo"
      ]
    },
    {
      "cell_type": "code",
      "execution_count": null,
      "metadata": {
        "id": "EMAMlm54RqGZ"
      },
      "outputs": [],
      "source": [
        "class individuo:\n",
        "  def __init__(self,*args,hijo = False):\n",
        "    if hijo:\n",
        "      self.umbrales =np.array([]);self.centroides=np.array([]);\n",
        "    else:\n",
        "      k_max,x_min,x_max,d = args\n",
        "      self.umbrales =np.random.random(k_max)\n",
        "      self.checar_umbrales(k_max)\n",
        "      self.centroides=np.random.uniform(\n",
        "          low=x_min,high=x_max,size=(k_max,d))\n",
        "    self.aptitud = None\n",
        "    self.fx = None\n",
        "    self.particion = None\n",
        "  def checar_umbrales(self,k_max):\n",
        "    if np.count_nonzero(self.umbrales >= 0.5) < 2:\n",
        "      indices = np.random.choice(range(k_max),2,replace = False)\n",
        "      self.umbrales[indices] = np.random.uniform(0.5,1,2)\n",
        "    self.activos = [i for i in range(k_max)\n",
        "              if self.umbrales[i] > 0.5 ]"
      ]
    },
    {
      "cell_type": "code",
      "execution_count": null,
      "metadata": {
        "id": "MicuDvD28m9y"
      },
      "outputs": [],
      "source": [
        "def cruza_mutacion(Zk,Zi,Zj,Zm,F:float,CR):\n",
        "  #funciona como debe, hace la cruza mutacion y revisa los umbrales\n",
        "  '''crea un individuo hijo con la cuza basada en 4 padres\n",
        "  por lo que se aplica la mutacion al mismo tiempo que la mutacion  \n",
        "  F es un escalar que varia en cada generacion***\n",
        "  CR es la constante de cruza'''\n",
        "  k_max = len(Zk.umbrales); d = len(Zk.centroides[0])\n",
        "  hijo = individuo(hijo=True)\n",
        "  #cruzamos los centroides de los padres\n",
        "  hijo.centroides = np.array(\n",
        "    [Zk.centroides[i][j] + F*(Zi.centroides[i][j]-Zj.centroides[i][j])\n",
        "    if np.random.random()<CR else Zm.centroides[i][j] \n",
        "    for i in range(k_max) for j in range(d)]).reshape(k_max,d)\n",
        "  #cruzamos los umbrales\n",
        "  hijo.umbrales = np.array(\n",
        "    [Zk.umbrales[i] + F*(Zi.umbrales[i]-Zj.umbrales[i])\n",
        "     if np.random.random() <CR \n",
        "     else Zm.umbrales[i] for i in range(k_max)] )\n",
        "  #revisamos que los umbrales no salgan de su rango\n",
        "  hijo.umbrales = np.array(\n",
        "      [umbral if umbral<1 and umbral>0 \n",
        "       else 1 if umbral>1 \n",
        "       else 0.0 for umbral in hijo.umbrales ])\n",
        "  #si hay menos de 2 umbrales activos escogemos 2 al azar y los activamos\n",
        "  hijo.checar_umbrales(k_max)\n",
        "  return(hijo)"
      ]
    },
    {
      "cell_type": "code",
      "source": [
        "def asignar_datos(individuo, datos):\n",
        "  ''' Asignamos los datos a cada grupo, si alguno queda\n",
        "  con menos de 2 elementos se diveiden los datos entre\n",
        "  los grupos activos, despues se mueven los centoides '''\n",
        "  Gactivos = individuo.centroides[individuo.activos]\n",
        "  distancias = euclidean_distances(datos,Gactivos)\n",
        "  particion = np.argmin(distancias, axis = 1)\n",
        "  #revisar que todos los grupos activos tengan al menos 2 puntos\n",
        "  grupos,NelementosG = np.unique(particion,return_counts=True)\n",
        "  if np.count_nonzero(NelementosG < 2) or len(grupos) < len(Gactivos):\n",
        "    particion = repartir_datos(Gactivos,datos,distancias)\n",
        "  #movemos solo los centroides activos al centro de sus elemntos\n",
        "  for i,g in enumerate(individuo.activos):\n",
        "    individuo.centroides[g]=np.mean(\n",
        "        datos[np.where(particion==i)[0].tolist()],axis=0)\n",
        "  return(np.array(particion))"
      ],
      "metadata": {
        "id": "UAc-oSwtdtKe"
      },
      "execution_count": null,
      "outputs": []
    },
    {
      "cell_type": "code",
      "execution_count": null,
      "metadata": {
        "id": "X8j7kZb5cGqn"
      },
      "outputs": [],
      "source": [
        "def repartir_datos(activos,datos,distancias): #funciona como debe\n",
        "  '''divide los datos entre los centros, a cada centro le tocan\n",
        "  los k datos mas cercanos a el, con k = #datos/#centros\n",
        "  si el numero de datos no es multiplo del numero de centros, al\n",
        "  ultimo centro de la lista le tocan los restantes'''\n",
        "  nCentros = len(activos); nDatos = len(datos)\n",
        "  asignados = np.zeros(nCentros); gDisponibles = list(range(nCentros))\n",
        "  particion = np.zeros(nDatos); nDatosC = nDatos//nCentros\n",
        "  for i,dato in enumerate(datos):\n",
        "    cMasCercano = np.argmin(distancias[i])\n",
        "    particion[i] = cMasCercano\n",
        "    asignados[cMasCercano] +=1\n",
        "    if i >= nDatosC-1:\n",
        "      if nDatosC in asignados[gDisponibles]:\n",
        "        igLleno = np.where(asignados[gDisponibles] ==nDatosC)[0][0]\n",
        "        distancias[:,gDisponibles[igLleno]] = np.inf\n",
        "        gDisponibles.remove(gDisponibles[igLleno])\n",
        "  return(particion)"
      ]
    },
    {
      "cell_type": "code",
      "source": [
        "def Cs(particion,activos,datos):#funciona como debe\n",
        "  '''particion es una lista con la etiquta de los datos \n",
        "  activos es la lista de los centroides de los grupos \n",
        "  matriz distancias es una variable global con la distancia entre\n",
        "  todos los puntos del conjunto de datos'''\n",
        "  global matriz_distancias\n",
        "  dividendo = 0\n",
        "  divisor = 0\n",
        "  #iteramos por grupos para sacar su distancia interna y entre grupos\n",
        "  for i,centroide in enumerate(activos):\n",
        "    intra = 0; elementos = np.where(particion==i)[0].tolist()\n",
        "    nPuntosG = len(elementos)\n",
        "    #sacamos la distancia interna del grupo\n",
        "    intra = np.max(\n",
        "    [matriz_distancias[dato][elementos] for dato in elementos]\n",
        "        ,axis=1)\n",
        "    dividendo += np.mean(intra)\n",
        "    #sacamos la minima distancia entre grupos\n",
        "    centroides_vecinos = np.array(\n",
        "        [centro for iter,centro in enumerate(activos)if iter != i] )\n",
        "    divisor += min( \n",
        "      [np.linalg.norm(centroide-vecino) for vecino in centroides_vecinos])\n",
        "  return(dividendo/divisor)"
      ],
      "metadata": {
        "id": "UPF0pyvBi8DU"
      },
      "execution_count": null,
      "outputs": []
    },
    {
      "cell_type": "code",
      "execution_count": null,
      "metadata": {
        "id": "ks04QGXLXc71"
      },
      "outputs": [],
      "source": [
        "'''def Cs(particion,activos,datos):#funciona como debe\n",
        "  particion es una lista con la etiquta de los datos \n",
        "  activos es la lista de los centroides de los grupos \n",
        "  matriz distancias es una variable global con la distancia entre\n",
        "  todos los puntos del conjunto de datos\n",
        "  global matriz_distancias\n",
        "  #primero movemos los centroides al centro de su grupo\n",
        "  elementos_g=[]\n",
        "  for i in range(len(activos)):\n",
        "    elementos_g.append(np.where(particion == i)[0].tolist())\n",
        "    activos[i]=np.mean(datos[elementos_g[i]],axis=0)\n",
        "  dividendo = 0\n",
        "  divisor = 0\n",
        "  #iteramos por grupos para sacar su distancia interna y entre grupos\n",
        "  for i,centroide in enumerate(activos):\n",
        "    intra = 0; elementos = elementos_g[i]; nPuntosG = len(elementos)\n",
        "    #sacamos la distancia interna del grupo\n",
        "    intra = np.max(\n",
        "    [matriz_distancias[dato][elementos] for dato in elementos]\n",
        "        ,axis=1)\n",
        "    dividendo += np.mean(intra)\n",
        "    #sacamos la minima distancia entre grupos\n",
        "    centroides_vecinos = np.array(\n",
        "        [centro for iter,centro in enumerate(activos)if iter != i] )\n",
        "    divisor += min( \n",
        "      [np.linalg.norm(centroide-vecino) for vecino in centroides_vecinos])\n",
        "  return(dividendo/divisor) '''"
      ]
    },
    {
      "cell_type": "code",
      "source": [
        "def iniciar(k_max,x_min,x_max,d,tPoblacion,datos,index):\n",
        "  poblacion = [individuo(k_max,x_min,x_max,d) for i in range(tPoblacion)]\n",
        "  for indi in poblacion:\n",
        "    asignar_aptitud(indi,datos,index)\n",
        "  best = sorted(poblacion, key=lambda x: x.aptitud,reverse=True)[0]\n",
        "  return(poblacion,best)"
      ],
      "metadata": {
        "id": "L96joZfN9prh"
      },
      "execution_count": null,
      "outputs": []
    },
    {
      "cell_type": "code",
      "source": [
        "def asignar_aptitud(individuo,datos,index):\n",
        "    individuo.particion = asignar_datos(individuo,datos)\n",
        "    activos = individuo.centroides[individuo.activos]\n",
        "    #asignamos la aptitud\n",
        "    if type(index) == str:\n",
        "      if index == 'cs':\n",
        "        individuo.fx = Cs(individuo.particion,activos,datos)\n",
        "        individuo.aptitud = 1/ (individuo.fx+.0001)\n",
        "      elif index == 'DB':\n",
        "        individuo.fx = DB(datos,individuo.particion)\n",
        "        individuo.aptitud = 1/ (individuo.fx+.0001)\n",
        "    else:\n",
        "      individuo.aptitud = ari(index,individuo.particion)"
      ],
      "metadata": {
        "id": "majp_ds37ukN"
      },
      "execution_count": null,
      "outputs": []
    },
    {
      "cell_type": "code",
      "execution_count": null,
      "metadata": {
        "id": "jPPP_Yp4Y-z2"
      },
      "outputs": [],
      "source": [
        "def acde(cr_max: float,cr_min: float,tPoblacion: int,\n",
        "         k_max: int,x_min: float,x_max: float,nLlamadas: int,\n",
        "         datos, index='cs'):\n",
        "  '''cr_max y cr_min son el maximo y minimo valor de la constante de cruza\n",
        "  tPoblacion es el numero de individuos que componen a la poblacion\n",
        "  k_max es el numero maximo de grupos a crear\n",
        "  nLlamadas nos dice el maximo numero de llamadas a la funcion\n",
        "  objetivo que puede realizar el programa, podemos saber cuantas\n",
        "  veces itera el algoritmo al dividir este valor entre el tamaño\n",
        "  de la poblacion, pues por cada individuo generado realiza una\n",
        "  llamada a la funcion objetivo\n",
        "  index nos dice si se quiere validar con el indice CS o DB'''\n",
        "  global matriz_distancias\n",
        "  d = len(datos[0]); max_iter = nLlamadas//tPoblacion\n",
        "  matriz_distancias = scipy.spatial.distance_matrix(datos,datos,2)\n",
        "  #iniciamos la poblacion inicial y el mejor individuo actual\n",
        "  poblacion,best = iniciar(k_max,x_min,x_max,d,tPoblacion,datos,index)\n",
        "  for iteracion in range(max_iter-1):\n",
        "    #imprimir(poblacion,x_min,x_max)\n",
        "    f = 0.5 * (1+np.random.uniform())\n",
        "    cr = (cr_max - cr_min) * (max_iter-iteracion) / max_iter\n",
        "    for indice,individuo in enumerate(poblacion):\n",
        "      Zi,Zj,Zm = np.random.choice(poblacion,3,replace=False)\n",
        "      hijo = cruza_mutacion(individuo,Zi,Zj,Zm,f,cr)\n",
        "      asignar_aptitud(hijo,datos,index)\n",
        "      if hijo.aptitud > individuo.aptitud:\n",
        "        poblacion[indice] = hijo\n",
        "      if hijo.aptitud > best.aptitud:\n",
        "        best = hijo\n",
        "  return(best)"
      ]
    },
    {
      "cell_type": "code",
      "source": [
        "#acde(1,0.5,10,20,0.1,7.9,100000,iris_datos,'cs')"
      ],
      "metadata": {
        "id": "dwT4pyZnBgLM"
      },
      "execution_count": null,
      "outputs": []
    },
    {
      "cell_type": "code",
      "source": [
        "#acde(1,0.5,10,20,vidrio_min,vidrio_max,10000,vidrio_datos,'cs')"
      ],
      "metadata": {
        "id": "_jEUpiDFeBB3"
      },
      "execution_count": null,
      "outputs": []
    },
    {
      "cell_type": "code",
      "source": [
        "def imprimir(poblacion,x_min,x_max):\n",
        "  for i,ind in enumerate(poblacion):\n",
        "    print(f'los atributos deben estar entre {x_min} y \\n {x_max}')\n",
        "    print(f'centroides del individuo {i}')\n",
        "    for cen in ind.centroides:\n",
        "      print([f'{b:.3f}' for b in cen])\n",
        "    print(f'tiene una aptitud de {ind.aptitud}')\n",
        "    grupos,contadores = np.unique(ind.particion,return_counts=True)\n",
        "    print(f'el individuo encontró {len(grupos)} grupos con {contadores} elementos')"
      ],
      "metadata": {
        "id": "Jh_sggnF5cdZ"
      },
      "execution_count": null,
      "outputs": []
    },
    {
      "cell_type": "code",
      "source": [
        "#matriz_distancias = scipy.spatial.distance_matrix(vidrio_datos,vidrio_datos,2)"
      ],
      "metadata": {
        "id": "9vIvTtWT2L2x"
      },
      "execution_count": null,
      "outputs": []
    },
    {
      "cell_type": "code",
      "source": [
        "#acde(1,0.5,10,20,vidrio_min,vidrio_max,100,vidrio_datos,'cs')"
      ],
      "metadata": {
        "id": "iVyD-S2m14dl"
      },
      "execution_count": null,
      "outputs": []
    },
    {
      "cell_type": "markdown",
      "source": [
        "# pruebas"
      ],
      "metadata": {
        "id": "JEp12j2eKKtZ"
      }
    },
    {
      "cell_type": "code",
      "source": [
        "'''np.array(\n",
        "    [Zk.centroides[i][j] + F*(Zi.centroides[i][j]-Zj.centroides[i][j])\n",
        "    if np.random.random()<CR else Zm.centroides[i][j] \n",
        "    for i in range(k_max) for j in range(d)]).reshape(k_max,d)'''"
      ],
      "metadata": {
        "id": "AuLPFZ7zKAOf"
      },
      "execution_count": null,
      "outputs": []
    },
    {
      "cell_type": "code",
      "source": [],
      "metadata": {
        "id": "PQRm4kW1z0QP"
      },
      "execution_count": null,
      "outputs": []
    }
  ],
  "metadata": {
    "colab": {
      "provenance": [],
      "collapsed_sections": [
        "W2uMiCEbQzbm"
      ]
    },
    "kernelspec": {
      "display_name": "Python 3",
      "name": "python3"
    },
    "language_info": {
      "name": "python"
    }
  },
  "nbformat": 4,
  "nbformat_minor": 0
}